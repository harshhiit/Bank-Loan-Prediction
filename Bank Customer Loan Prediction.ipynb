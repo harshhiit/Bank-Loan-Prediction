{
 "cells": [
  {
   "cell_type": "code",
   "execution_count": 2,
   "metadata": {},
   "outputs": [
    {
     "data": {
      "text/html": [
       "        <script type=\"text/javascript\">\n",
       "        window.PlotlyConfig = {MathJaxConfig: 'local'};\n",
       "        if (window.MathJax) {MathJax.Hub.Config({SVG: {font: \"STIX-Web\"}});}\n",
       "        if (typeof require !== 'undefined') {\n",
       "        require.undef(\"plotly\");\n",
       "        requirejs.config({\n",
       "            paths: {\n",
       "                'plotly': ['https://cdn.plot.ly/plotly-2.4.2.min']\n",
       "            }\n",
       "        });\n",
       "        require(['plotly'], function(Plotly) {\n",
       "            window._Plotly = Plotly;\n",
       "        });\n",
       "        }\n",
       "        </script>\n",
       "        "
      ]
     },
     "metadata": {},
     "output_type": "display_data"
    }
   ],
   "source": [
    "#Importing libraries\n",
    "import numpy as np # linear algebra\n",
    "import pandas as pd # data processing, CSV file I/O \n",
    "import os\n",
    "import matplotlib.pyplot as plt#visualization\n",
    "from PIL import  Image\n",
    "%matplotlib inline\n",
    "import seaborn as sns#visualization\n",
    "import itertools\n",
    "import warnings\n",
    "warnings.filterwarnings(\"ignore\")\n",
    "import io\n",
    "import plotly.offline as py#visualization\n",
    "py.init_notebook_mode(connected=True)#visualization\n",
    "import plotly.graph_objs as go#visualization\n",
    "import plotly.tools as tls#visualization\n",
    "import plotly.figure_factory as ff#visualization"
   ]
  },
  {
   "cell_type": "markdown",
   "metadata": {},
   "source": [
    "# 1. Data Importing"
   ]
  },
  {
   "cell_type": "code",
   "execution_count": 3,
   "metadata": {},
   "outputs": [],
   "source": [
    "import pandas as pd\n",
    "Bank = pd.read_csv (r\"C:\\Users\\HARSHIT\\Downloads\\Python Codes\\Bank_Loan.csv\")"
   ]
  },
  {
   "cell_type": "code",
   "execution_count": 4,
   "metadata": {},
   "outputs": [
    {
     "data": {
      "text/html": [
       "<div>\n",
       "<style scoped>\n",
       "    .dataframe tbody tr th:only-of-type {\n",
       "        vertical-align: middle;\n",
       "    }\n",
       "\n",
       "    .dataframe tbody tr th {\n",
       "        vertical-align: top;\n",
       "    }\n",
       "\n",
       "    .dataframe thead th {\n",
       "        text-align: right;\n",
       "    }\n",
       "</style>\n",
       "<table border=\"1\" class=\"dataframe\">\n",
       "  <thead>\n",
       "    <tr style=\"text-align: right;\">\n",
       "      <th></th>\n",
       "      <th>Loan_ID</th>\n",
       "      <th>Age</th>\n",
       "      <th>Gender</th>\n",
       "      <th>Married</th>\n",
       "      <th>Dependents</th>\n",
       "      <th>Education</th>\n",
       "      <th>Self_Employed</th>\n",
       "      <th>ApplicantIncome</th>\n",
       "      <th>LoanAmount</th>\n",
       "      <th>Previous_Loan_Taken</th>\n",
       "      <th>Cibil_Score</th>\n",
       "      <th>Property_Area</th>\n",
       "      <th>Customer_Bandwith</th>\n",
       "      <th>Tenure</th>\n",
       "      <th>Loan_Status</th>\n",
       "    </tr>\n",
       "  </thead>\n",
       "  <tbody>\n",
       "    <tr>\n",
       "      <th>0</th>\n",
       "      <td>LP001002</td>\n",
       "      <td>43</td>\n",
       "      <td>Male</td>\n",
       "      <td>No</td>\n",
       "      <td>3</td>\n",
       "      <td>Graduate</td>\n",
       "      <td>No</td>\n",
       "      <td>54005</td>\n",
       "      <td>334113</td>\n",
       "      <td>Yes</td>\n",
       "      <td>668</td>\n",
       "      <td>Urban</td>\n",
       "      <td>Good</td>\n",
       "      <td>43</td>\n",
       "      <td>No</td>\n",
       "    </tr>\n",
       "    <tr>\n",
       "      <th>1</th>\n",
       "      <td>LP001003</td>\n",
       "      <td>57</td>\n",
       "      <td>Male</td>\n",
       "      <td>Yes</td>\n",
       "      <td>2</td>\n",
       "      <td>Graduate</td>\n",
       "      <td>No</td>\n",
       "      <td>28817</td>\n",
       "      <td>736026</td>\n",
       "      <td>Yes</td>\n",
       "      <td>684</td>\n",
       "      <td>Rural</td>\n",
       "      <td>Good</td>\n",
       "      <td>13</td>\n",
       "      <td>Yes</td>\n",
       "    </tr>\n",
       "    <tr>\n",
       "      <th>2</th>\n",
       "      <td>LP001005</td>\n",
       "      <td>25</td>\n",
       "      <td>Male</td>\n",
       "      <td>Yes</td>\n",
       "      <td>3</td>\n",
       "      <td>Graduate</td>\n",
       "      <td>Yes</td>\n",
       "      <td>99939</td>\n",
       "      <td>712432</td>\n",
       "      <td>Yes</td>\n",
       "      <td>788</td>\n",
       "      <td>Urban</td>\n",
       "      <td>Good</td>\n",
       "      <td>10</td>\n",
       "      <td>No</td>\n",
       "    </tr>\n",
       "    <tr>\n",
       "      <th>3</th>\n",
       "      <td>LP001006</td>\n",
       "      <td>44</td>\n",
       "      <td>Male</td>\n",
       "      <td>Yes</td>\n",
       "      <td>1</td>\n",
       "      <td>Not Graduate</td>\n",
       "      <td>No</td>\n",
       "      <td>38470</td>\n",
       "      <td>267161</td>\n",
       "      <td>Yes</td>\n",
       "      <td>888</td>\n",
       "      <td>Urban</td>\n",
       "      <td>Good</td>\n",
       "      <td>9</td>\n",
       "      <td>No</td>\n",
       "    </tr>\n",
       "    <tr>\n",
       "      <th>4</th>\n",
       "      <td>LP001008</td>\n",
       "      <td>58</td>\n",
       "      <td>Male</td>\n",
       "      <td>No</td>\n",
       "      <td>1</td>\n",
       "      <td>Graduate</td>\n",
       "      <td>No</td>\n",
       "      <td>28991</td>\n",
       "      <td>402474</td>\n",
       "      <td>Yes</td>\n",
       "      <td>703</td>\n",
       "      <td>Urban</td>\n",
       "      <td>Good</td>\n",
       "      <td>11</td>\n",
       "      <td>No</td>\n",
       "    </tr>\n",
       "  </tbody>\n",
       "</table>\n",
       "</div>"
      ],
      "text/plain": [
       "    Loan_ID  Age Gender Married  Dependents     Education Self_Employed  \\\n",
       "0  LP001002   43   Male      No           3      Graduate            No   \n",
       "1  LP001003   57   Male     Yes           2      Graduate            No   \n",
       "2  LP001005   25   Male     Yes           3      Graduate           Yes   \n",
       "3  LP001006   44   Male     Yes           1  Not Graduate            No   \n",
       "4  LP001008   58   Male      No           1      Graduate            No   \n",
       "\n",
       "   ApplicantIncome  LoanAmount Previous_Loan_Taken  Cibil_Score Property_Area  \\\n",
       "0            54005      334113                 Yes          668         Urban   \n",
       "1            28817      736026                 Yes          684         Rural   \n",
       "2            99939      712432                 Yes          788         Urban   \n",
       "3            38470      267161                 Yes          888         Urban   \n",
       "4            28991      402474                 Yes          703         Urban   \n",
       "\n",
       "  Customer_Bandwith  Tenure Loan_Status  \n",
       "0              Good      43          No  \n",
       "1              Good      13         Yes  \n",
       "2              Good      10          No  \n",
       "3              Good       9          No  \n",
       "4              Good      11          No  "
      ]
     },
     "execution_count": 4,
     "metadata": {},
     "output_type": "execute_result"
    }
   ],
   "source": [
    "#first few rows\n",
    "Bank.head()"
   ]
  },
  {
   "cell_type": "markdown",
   "metadata": {},
   "source": [
    "# 2. Data Pre-Processing \n",
    "\n",
    "1. Data Type and conversion\n",
    "2. Identifying & Treatment Missing Value "
   ]
  },
  {
   "cell_type": "markdown",
   "metadata": {},
   "source": [
    "#### 2.1. Data Type and conversion"
   ]
  },
  {
   "cell_type": "code",
   "execution_count": 5,
   "metadata": {},
   "outputs": [
    {
     "name": "stdout",
     "output_type": "stream",
     "text": [
      "<class 'pandas.core.frame.DataFrame'>\n",
      "RangeIndex: 981 entries, 0 to 980\n",
      "Data columns (total 15 columns):\n",
      " #   Column               Non-Null Count  Dtype \n",
      "---  ------               --------------  ----- \n",
      " 0   Loan_ID              981 non-null    object\n",
      " 1   Age                  981 non-null    int64 \n",
      " 2   Gender               957 non-null    object\n",
      " 3   Married              978 non-null    object\n",
      " 4   Dependents           981 non-null    int64 \n",
      " 5   Education            981 non-null    object\n",
      " 6   Self_Employed        926 non-null    object\n",
      " 7   ApplicantIncome      981 non-null    int64 \n",
      " 8   LoanAmount           981 non-null    int64 \n",
      " 9   Previous_Loan_Taken  981 non-null    object\n",
      " 10  Cibil_Score          981 non-null    int64 \n",
      " 11  Property_Area        981 non-null    object\n",
      " 12  Customer_Bandwith    981 non-null    object\n",
      " 13  Tenure               981 non-null    int64 \n",
      " 14  Loan_Status          981 non-null    object\n",
      "dtypes: int64(6), object(9)\n",
      "memory usage: 115.1+ KB\n"
     ]
    }
   ],
   "source": [
    "Bank.info()"
   ]
  },
  {
   "cell_type": "markdown",
   "metadata": {},
   "source": [
    "#### 2.2. Identifying & Treatment Missing Value"
   ]
  },
  {
   "cell_type": "code",
   "execution_count": 6,
   "metadata": {},
   "outputs": [
    {
     "name": "stdout",
     "output_type": "stream",
     "text": [
      "Loan_ID                 0\n",
      "Age                     0\n",
      "Gender                 24\n",
      "Married                 3\n",
      "Dependents              0\n",
      "Education               0\n",
      "Self_Employed          55\n",
      "ApplicantIncome         0\n",
      "LoanAmount              0\n",
      "Previous_Loan_Taken     0\n",
      "Cibil_Score             0\n",
      "Property_Area           0\n",
      "Customer_Bandwith       0\n",
      "Tenure                  0\n",
      "Loan_Status             0\n",
      "dtype: int64\n"
     ]
    }
   ],
   "source": [
    "# count the number of NaN values in each column\n",
    "print(Bank.isnull().sum())"
   ]
  },
  {
   "cell_type": "markdown",
   "metadata": {},
   "source": [
    "### Replacing Missing value by Mode"
   ]
  },
  {
   "cell_type": "code",
   "execution_count": 7,
   "metadata": {},
   "outputs": [
    {
     "data": {
      "text/plain": [
       "Yes    631\n",
       "No     347\n",
       "NaN      3\n",
       "Name: Married, dtype: int64"
      ]
     },
     "execution_count": 7,
     "metadata": {},
     "output_type": "execute_result"
    }
   ],
   "source": [
    "Bank.Married.value_counts(dropna=False)"
   ]
  },
  {
   "cell_type": "code",
   "execution_count": 11,
   "metadata": {},
   "outputs": [],
   "source": [
    "for column in ['Gender','Married','Self_Employed']:\n",
    "    Bank[column].fillna(Bank[column].mode()[0], inplace=True)"
   ]
  },
  {
   "cell_type": "code",
   "execution_count": 9,
   "metadata": {},
   "outputs": [
    {
     "data": {
      "text/plain": [
       "Yes    634\n",
       "No     347\n",
       "Name: Married, dtype: int64"
      ]
     },
     "execution_count": 9,
     "metadata": {},
     "output_type": "execute_result"
    }
   ],
   "source": [
    "Bank.Married.value_counts(dropna=False)"
   ]
  },
  {
   "cell_type": "code",
   "execution_count": 12,
   "metadata": {
    "scrolled": true
   },
   "outputs": [
    {
     "name": "stdout",
     "output_type": "stream",
     "text": [
      "Loan_ID                0\n",
      "Age                    0\n",
      "Gender                 0\n",
      "Married                0\n",
      "Dependents             0\n",
      "Education              0\n",
      "Self_Employed          0\n",
      "ApplicantIncome        0\n",
      "LoanAmount             0\n",
      "Previous_Loan_Taken    0\n",
      "Cibil_Score            0\n",
      "Property_Area          0\n",
      "Customer_Bandwith      0\n",
      "Tenure                 0\n",
      "Loan_Status            0\n",
      "dtype: int64\n"
     ]
    }
   ],
   "source": [
    "# count the number of NaN values in each column\n",
    "print(Bank.isnull().sum())"
   ]
  },
  {
   "cell_type": "code",
   "execution_count": 13,
   "metadata": {},
   "outputs": [
    {
     "data": {
      "text/html": [
       "<div>\n",
       "<style scoped>\n",
       "    .dataframe tbody tr th:only-of-type {\n",
       "        vertical-align: middle;\n",
       "    }\n",
       "\n",
       "    .dataframe tbody tr th {\n",
       "        vertical-align: top;\n",
       "    }\n",
       "\n",
       "    .dataframe thead th {\n",
       "        text-align: right;\n",
       "    }\n",
       "</style>\n",
       "<table border=\"1\" class=\"dataframe\">\n",
       "  <thead>\n",
       "    <tr style=\"text-align: right;\">\n",
       "      <th></th>\n",
       "      <th>Loan_ID</th>\n",
       "      <th>Age</th>\n",
       "      <th>Gender</th>\n",
       "      <th>Married</th>\n",
       "      <th>Dependents</th>\n",
       "      <th>Education</th>\n",
       "      <th>Self_Employed</th>\n",
       "      <th>ApplicantIncome</th>\n",
       "      <th>LoanAmount</th>\n",
       "      <th>Previous_Loan_Taken</th>\n",
       "      <th>Cibil_Score</th>\n",
       "      <th>Property_Area</th>\n",
       "      <th>Customer_Bandwith</th>\n",
       "      <th>Tenure</th>\n",
       "      <th>Loan_Status</th>\n",
       "    </tr>\n",
       "  </thead>\n",
       "  <tbody>\n",
       "    <tr>\n",
       "      <th>0</th>\n",
       "      <td>LP001002</td>\n",
       "      <td>43</td>\n",
       "      <td>Male</td>\n",
       "      <td>No</td>\n",
       "      <td>3</td>\n",
       "      <td>Graduate</td>\n",
       "      <td>No</td>\n",
       "      <td>54005</td>\n",
       "      <td>334113</td>\n",
       "      <td>Yes</td>\n",
       "      <td>668</td>\n",
       "      <td>Urban</td>\n",
       "      <td>Good</td>\n",
       "      <td>43</td>\n",
       "      <td>No</td>\n",
       "    </tr>\n",
       "    <tr>\n",
       "      <th>1</th>\n",
       "      <td>LP001003</td>\n",
       "      <td>57</td>\n",
       "      <td>Male</td>\n",
       "      <td>Yes</td>\n",
       "      <td>2</td>\n",
       "      <td>Graduate</td>\n",
       "      <td>No</td>\n",
       "      <td>28817</td>\n",
       "      <td>736026</td>\n",
       "      <td>Yes</td>\n",
       "      <td>684</td>\n",
       "      <td>Rural</td>\n",
       "      <td>Good</td>\n",
       "      <td>13</td>\n",
       "      <td>Yes</td>\n",
       "    </tr>\n",
       "    <tr>\n",
       "      <th>2</th>\n",
       "      <td>LP001005</td>\n",
       "      <td>25</td>\n",
       "      <td>Male</td>\n",
       "      <td>Yes</td>\n",
       "      <td>3</td>\n",
       "      <td>Graduate</td>\n",
       "      <td>Yes</td>\n",
       "      <td>99939</td>\n",
       "      <td>712432</td>\n",
       "      <td>Yes</td>\n",
       "      <td>788</td>\n",
       "      <td>Urban</td>\n",
       "      <td>Good</td>\n",
       "      <td>10</td>\n",
       "      <td>No</td>\n",
       "    </tr>\n",
       "    <tr>\n",
       "      <th>3</th>\n",
       "      <td>LP001006</td>\n",
       "      <td>44</td>\n",
       "      <td>Male</td>\n",
       "      <td>Yes</td>\n",
       "      <td>1</td>\n",
       "      <td>Not Graduate</td>\n",
       "      <td>No</td>\n",
       "      <td>38470</td>\n",
       "      <td>267161</td>\n",
       "      <td>Yes</td>\n",
       "      <td>888</td>\n",
       "      <td>Urban</td>\n",
       "      <td>Good</td>\n",
       "      <td>9</td>\n",
       "      <td>No</td>\n",
       "    </tr>\n",
       "    <tr>\n",
       "      <th>4</th>\n",
       "      <td>LP001008</td>\n",
       "      <td>58</td>\n",
       "      <td>Male</td>\n",
       "      <td>No</td>\n",
       "      <td>1</td>\n",
       "      <td>Graduate</td>\n",
       "      <td>No</td>\n",
       "      <td>28991</td>\n",
       "      <td>402474</td>\n",
       "      <td>Yes</td>\n",
       "      <td>703</td>\n",
       "      <td>Urban</td>\n",
       "      <td>Good</td>\n",
       "      <td>11</td>\n",
       "      <td>No</td>\n",
       "    </tr>\n",
       "  </tbody>\n",
       "</table>\n",
       "</div>"
      ],
      "text/plain": [
       "    Loan_ID  Age Gender Married  Dependents     Education Self_Employed  \\\n",
       "0  LP001002   43   Male      No           3      Graduate            No   \n",
       "1  LP001003   57   Male     Yes           2      Graduate            No   \n",
       "2  LP001005   25   Male     Yes           3      Graduate           Yes   \n",
       "3  LP001006   44   Male     Yes           1  Not Graduate            No   \n",
       "4  LP001008   58   Male      No           1      Graduate            No   \n",
       "\n",
       "   ApplicantIncome  LoanAmount Previous_Loan_Taken  Cibil_Score Property_Area  \\\n",
       "0            54005      334113                 Yes          668         Urban   \n",
       "1            28817      736026                 Yes          684         Rural   \n",
       "2            99939      712432                 Yes          788         Urban   \n",
       "3            38470      267161                 Yes          888         Urban   \n",
       "4            28991      402474                 Yes          703         Urban   \n",
       "\n",
       "  Customer_Bandwith  Tenure Loan_Status  \n",
       "0              Good      43          No  \n",
       "1              Good      13         Yes  \n",
       "2              Good      10          No  \n",
       "3              Good       9          No  \n",
       "4              Good      11          No  "
      ]
     },
     "execution_count": 13,
     "metadata": {},
     "output_type": "execute_result"
    }
   ],
   "source": [
    "Bank.head()"
   ]
  },
  {
   "cell_type": "code",
   "execution_count": 14,
   "metadata": {},
   "outputs": [],
   "source": [
    "#Tenure to categorical column\n",
    "def tenure_lab(Bank) :\n",
    "    if Bank[\"Tenure\"] <= 6 :\n",
    "        return \"Tenure_0-6\"\n",
    "    elif (Bank[\"Tenure\"] > 6) & (Bank[\"Tenure\"] <= 12 ):\n",
    "        return \"Tenure_6-12\"\n",
    "    elif (Bank[\"Tenure\"] > 12) & (Bank[\"Tenure\"] <= 24) :\n",
    "        return \"Tenure_12_24\"\n",
    "    elif (Bank[\"Tenure\"] > 24) & (Bank[\"Tenure\"] <= 36) :\n",
    "        return \"Tenure_24-36\"\n",
    "    elif Bank[\"Tenure\"] > 36 :\n",
    "        return \"Tenure_gt_36\"\n",
    "\n",
    "Bank[\"Tenure_group\"] = Bank.apply(lambda ab :tenure_lab(ab),axis = 1)"
   ]
  },
  {
   "cell_type": "code",
   "execution_count": 15,
   "metadata": {},
   "outputs": [
    {
     "data": {
      "text/html": [
       "<div>\n",
       "<style scoped>\n",
       "    .dataframe tbody tr th:only-of-type {\n",
       "        vertical-align: middle;\n",
       "    }\n",
       "\n",
       "    .dataframe tbody tr th {\n",
       "        vertical-align: top;\n",
       "    }\n",
       "\n",
       "    .dataframe thead th {\n",
       "        text-align: right;\n",
       "    }\n",
       "</style>\n",
       "<table border=\"1\" class=\"dataframe\">\n",
       "  <thead>\n",
       "    <tr style=\"text-align: right;\">\n",
       "      <th></th>\n",
       "      <th>Loan_ID</th>\n",
       "      <th>Age</th>\n",
       "      <th>Gender</th>\n",
       "      <th>Married</th>\n",
       "      <th>Dependents</th>\n",
       "      <th>Education</th>\n",
       "      <th>Self_Employed</th>\n",
       "      <th>ApplicantIncome</th>\n",
       "      <th>LoanAmount</th>\n",
       "      <th>Previous_Loan_Taken</th>\n",
       "      <th>Cibil_Score</th>\n",
       "      <th>Property_Area</th>\n",
       "      <th>Customer_Bandwith</th>\n",
       "      <th>Tenure</th>\n",
       "      <th>Loan_Status</th>\n",
       "      <th>Tenure_group</th>\n",
       "    </tr>\n",
       "  </thead>\n",
       "  <tbody>\n",
       "    <tr>\n",
       "      <th>0</th>\n",
       "      <td>LP001002</td>\n",
       "      <td>43</td>\n",
       "      <td>Male</td>\n",
       "      <td>No</td>\n",
       "      <td>3</td>\n",
       "      <td>Graduate</td>\n",
       "      <td>No</td>\n",
       "      <td>54005</td>\n",
       "      <td>334113</td>\n",
       "      <td>Yes</td>\n",
       "      <td>668</td>\n",
       "      <td>Urban</td>\n",
       "      <td>Good</td>\n",
       "      <td>43</td>\n",
       "      <td>No</td>\n",
       "      <td>Tenure_gt_36</td>\n",
       "    </tr>\n",
       "    <tr>\n",
       "      <th>1</th>\n",
       "      <td>LP001003</td>\n",
       "      <td>57</td>\n",
       "      <td>Male</td>\n",
       "      <td>Yes</td>\n",
       "      <td>2</td>\n",
       "      <td>Graduate</td>\n",
       "      <td>No</td>\n",
       "      <td>28817</td>\n",
       "      <td>736026</td>\n",
       "      <td>Yes</td>\n",
       "      <td>684</td>\n",
       "      <td>Rural</td>\n",
       "      <td>Good</td>\n",
       "      <td>13</td>\n",
       "      <td>Yes</td>\n",
       "      <td>Tenure_12_24</td>\n",
       "    </tr>\n",
       "    <tr>\n",
       "      <th>2</th>\n",
       "      <td>LP001005</td>\n",
       "      <td>25</td>\n",
       "      <td>Male</td>\n",
       "      <td>Yes</td>\n",
       "      <td>3</td>\n",
       "      <td>Graduate</td>\n",
       "      <td>Yes</td>\n",
       "      <td>99939</td>\n",
       "      <td>712432</td>\n",
       "      <td>Yes</td>\n",
       "      <td>788</td>\n",
       "      <td>Urban</td>\n",
       "      <td>Good</td>\n",
       "      <td>10</td>\n",
       "      <td>No</td>\n",
       "      <td>Tenure_6-12</td>\n",
       "    </tr>\n",
       "    <tr>\n",
       "      <th>3</th>\n",
       "      <td>LP001006</td>\n",
       "      <td>44</td>\n",
       "      <td>Male</td>\n",
       "      <td>Yes</td>\n",
       "      <td>1</td>\n",
       "      <td>Not Graduate</td>\n",
       "      <td>No</td>\n",
       "      <td>38470</td>\n",
       "      <td>267161</td>\n",
       "      <td>Yes</td>\n",
       "      <td>888</td>\n",
       "      <td>Urban</td>\n",
       "      <td>Good</td>\n",
       "      <td>9</td>\n",
       "      <td>No</td>\n",
       "      <td>Tenure_6-12</td>\n",
       "    </tr>\n",
       "    <tr>\n",
       "      <th>4</th>\n",
       "      <td>LP001008</td>\n",
       "      <td>58</td>\n",
       "      <td>Male</td>\n",
       "      <td>No</td>\n",
       "      <td>1</td>\n",
       "      <td>Graduate</td>\n",
       "      <td>No</td>\n",
       "      <td>28991</td>\n",
       "      <td>402474</td>\n",
       "      <td>Yes</td>\n",
       "      <td>703</td>\n",
       "      <td>Urban</td>\n",
       "      <td>Good</td>\n",
       "      <td>11</td>\n",
       "      <td>No</td>\n",
       "      <td>Tenure_6-12</td>\n",
       "    </tr>\n",
       "  </tbody>\n",
       "</table>\n",
       "</div>"
      ],
      "text/plain": [
       "    Loan_ID  Age Gender Married  Dependents     Education Self_Employed  \\\n",
       "0  LP001002   43   Male      No           3      Graduate            No   \n",
       "1  LP001003   57   Male     Yes           2      Graduate            No   \n",
       "2  LP001005   25   Male     Yes           3      Graduate           Yes   \n",
       "3  LP001006   44   Male     Yes           1  Not Graduate            No   \n",
       "4  LP001008   58   Male      No           1      Graduate            No   \n",
       "\n",
       "   ApplicantIncome  LoanAmount Previous_Loan_Taken  Cibil_Score Property_Area  \\\n",
       "0            54005      334113                 Yes          668         Urban   \n",
       "1            28817      736026                 Yes          684         Rural   \n",
       "2            99939      712432                 Yes          788         Urban   \n",
       "3            38470      267161                 Yes          888         Urban   \n",
       "4            28991      402474                 Yes          703         Urban   \n",
       "\n",
       "  Customer_Bandwith  Tenure Loan_Status  Tenure_group  \n",
       "0              Good      43          No  Tenure_gt_36  \n",
       "1              Good      13         Yes  Tenure_12_24  \n",
       "2              Good      10          No   Tenure_6-12  \n",
       "3              Good       9          No   Tenure_6-12  \n",
       "4              Good      11          No   Tenure_6-12  "
      ]
     },
     "execution_count": 15,
     "metadata": {},
     "output_type": "execute_result"
    }
   ],
   "source": [
    "Bank.head()"
   ]
  },
  {
   "cell_type": "code",
   "execution_count": 12,
   "metadata": {},
   "outputs": [
    {
     "data": {
      "text/plain": [
       "Tenure_gt_36    267\n",
       "Tenure_12_24    266\n",
       "Tenure_24-36    259\n",
       "Tenure_6-12     131\n",
       "Tenure_0-6       58\n",
       "Name: Tenure_group, dtype: int64"
      ]
     },
     "execution_count": 12,
     "metadata": {},
     "output_type": "execute_result"
    }
   ],
   "source": [
    "Bank.Tenure_group.value_counts(dropna=False)"
   ]
  },
  {
   "cell_type": "markdown",
   "metadata": {},
   "source": [
    "# Data Visualization"
   ]
  },
  {
   "cell_type": "markdown",
   "metadata": {},
   "source": [
    "#### Bad Rate Analysis "
   ]
  },
  {
   "cell_type": "code",
   "execution_count": 16,
   "metadata": {
    "scrolled": true
   },
   "outputs": [
    {
     "data": {
      "text/plain": [
       "No     712\n",
       "Yes    269\n",
       "Name: Loan_Status, dtype: int64"
      ]
     },
     "execution_count": 16,
     "metadata": {},
     "output_type": "execute_result"
    }
   ],
   "source": [
    "Bank.Loan_Status.value_counts()"
   ]
  },
  {
   "cell_type": "code",
   "execution_count": 17,
   "metadata": {},
   "outputs": [
    {
     "data": {
      "application/vnd.plotly.v1+json": {
       "config": {
        "plotlyServerURL": "https://plot.ly"
       },
       "data": [
        {
         "customdata": [
          [
           "No"
          ],
          [
           "Yes"
          ],
          [
           "No"
          ],
          [
           "No"
          ],
          [
           "No"
          ],
          [
           "No"
          ],
          [
           "No"
          ],
          [
           "Yes"
          ],
          [
           "No"
          ],
          [
           "Yes"
          ],
          [
           "No"
          ],
          [
           "No"
          ],
          [
           "No"
          ],
          [
           "Yes"
          ],
          [
           "No"
          ],
          [
           "No"
          ],
          [
           "No"
          ],
          [
           "Yes"
          ],
          [
           "Yes"
          ],
          [
           "No"
          ],
          [
           "Yes"
          ],
          [
           "No"
          ],
          [
           "Yes"
          ],
          [
           "Yes"
          ],
          [
           "Yes"
          ],
          [
           "No"
          ],
          [
           "No"
          ],
          [
           "No"
          ],
          [
           "Yes"
          ],
          [
           "No"
          ],
          [
           "Yes"
          ],
          [
           "Yes"
          ],
          [
           "Yes"
          ],
          [
           "No"
          ],
          [
           "Yes"
          ],
          [
           "No"
          ],
          [
           "Yes"
          ],
          [
           "No"
          ],
          [
           "No"
          ],
          [
           "No"
          ],
          [
           "Yes"
          ],
          [
           "No"
          ],
          [
           "No"
          ],
          [
           "No"
          ],
          [
           "No"
          ],
          [
           "No"
          ],
          [
           "No"
          ],
          [
           "No"
          ],
          [
           "Yes"
          ],
          [
           "No"
          ],
          [
           "No"
          ],
          [
           "No"
          ],
          [
           "Yes"
          ],
          [
           "Yes"
          ],
          [
           "Yes"
          ],
          [
           "No"
          ],
          [
           "No"
          ],
          [
           "Yes"
          ],
          [
           "No"
          ],
          [
           "No"
          ],
          [
           "No"
          ],
          [
           "No"
          ],
          [
           "Yes"
          ],
          [
           "Yes"
          ],
          [
           "Yes"
          ],
          [
           "Yes"
          ],
          [
           "Yes"
          ],
          [
           "No"
          ],
          [
           "No"
          ],
          [
           "Yes"
          ],
          [
           "No"
          ],
          [
           "No"
          ],
          [
           "No"
          ],
          [
           "Yes"
          ],
          [
           "No"
          ],
          [
           "Yes"
          ],
          [
           "Yes"
          ],
          [
           "Yes"
          ],
          [
           "Yes"
          ],
          [
           "No"
          ],
          [
           "No"
          ],
          [
           "No"
          ],
          [
           "Yes"
          ],
          [
           "Yes"
          ],
          [
           "No"
          ],
          [
           "No"
          ],
          [
           "No"
          ],
          [
           "No"
          ],
          [
           "No"
          ],
          [
           "No"
          ],
          [
           "No"
          ],
          [
           "No"
          ],
          [
           "No"
          ],
          [
           "No"
          ],
          [
           "No"
          ],
          [
           "Yes"
          ],
          [
           "No"
          ],
          [
           "No"
          ],
          [
           "No"
          ],
          [
           "No"
          ],
          [
           "No"
          ],
          [
           "No"
          ],
          [
           "No"
          ],
          [
           "No"
          ],
          [
           "No"
          ],
          [
           "No"
          ],
          [
           "No"
          ],
          [
           "Yes"
          ],
          [
           "Yes"
          ],
          [
           "No"
          ],
          [
           "No"
          ],
          [
           "No"
          ],
          [
           "Yes"
          ],
          [
           "No"
          ],
          [
           "No"
          ],
          [
           "No"
          ],
          [
           "No"
          ],
          [
           "No"
          ],
          [
           "Yes"
          ],
          [
           "No"
          ],
          [
           "No"
          ],
          [
           "No"
          ],
          [
           "No"
          ],
          [
           "No"
          ],
          [
           "No"
          ],
          [
           "No"
          ],
          [
           "No"
          ],
          [
           "No"
          ],
          [
           "Yes"
          ],
          [
           "Yes"
          ],
          [
           "No"
          ],
          [
           "No"
          ],
          [
           "No"
          ],
          [
           "No"
          ],
          [
           "No"
          ],
          [
           "Yes"
          ],
          [
           "Yes"
          ],
          [
           "No"
          ],
          [
           "Yes"
          ],
          [
           "Yes"
          ],
          [
           "Yes"
          ],
          [
           "No"
          ],
          [
           "No"
          ],
          [
           "No"
          ],
          [
           "No"
          ],
          [
           "No"
          ],
          [
           "No"
          ],
          [
           "No"
          ],
          [
           "Yes"
          ],
          [
           "No"
          ],
          [
           "Yes"
          ],
          [
           "No"
          ],
          [
           "Yes"
          ],
          [
           "Yes"
          ],
          [
           "No"
          ],
          [
           "No"
          ],
          [
           "No"
          ],
          [
           "No"
          ],
          [
           "No"
          ],
          [
           "No"
          ],
          [
           "No"
          ],
          [
           "Yes"
          ],
          [
           "Yes"
          ],
          [
           "No"
          ],
          [
           "No"
          ],
          [
           "No"
          ],
          [
           "Yes"
          ],
          [
           "No"
          ],
          [
           "Yes"
          ],
          [
           "No"
          ],
          [
           "No"
          ],
          [
           "No"
          ],
          [
           "Yes"
          ],
          [
           "No"
          ],
          [
           "Yes"
          ],
          [
           "No"
          ],
          [
           "No"
          ],
          [
           "Yes"
          ],
          [
           "No"
          ],
          [
           "Yes"
          ],
          [
           "Yes"
          ],
          [
           "Yes"
          ],
          [
           "No"
          ],
          [
           "Yes"
          ],
          [
           "No"
          ],
          [
           "No"
          ],
          [
           "Yes"
          ],
          [
           "No"
          ],
          [
           "No"
          ],
          [
           "No"
          ],
          [
           "No"
          ],
          [
           "Yes"
          ],
          [
           "Yes"
          ],
          [
           "No"
          ],
          [
           "No"
          ],
          [
           "Yes"
          ],
          [
           "No"
          ],
          [
           "No"
          ],
          [
           "No"
          ],
          [
           "Yes"
          ],
          [
           "No"
          ],
          [
           "No"
          ],
          [
           "Yes"
          ],
          [
           "No"
          ],
          [
           "No"
          ],
          [
           "No"
          ],
          [
           "No"
          ],
          [
           "No"
          ],
          [
           "No"
          ],
          [
           "Yes"
          ],
          [
           "Yes"
          ],
          [
           "Yes"
          ],
          [
           "No"
          ],
          [
           "No"
          ],
          [
           "No"
          ],
          [
           "No"
          ],
          [
           "Yes"
          ],
          [
           "No"
          ],
          [
           "Yes"
          ],
          [
           "No"
          ],
          [
           "Yes"
          ],
          [
           "No"
          ],
          [
           "No"
          ],
          [
           "No"
          ],
          [
           "No"
          ],
          [
           "Yes"
          ],
          [
           "Yes"
          ],
          [
           "No"
          ],
          [
           "No"
          ],
          [
           "No"
          ],
          [
           "No"
          ],
          [
           "No"
          ],
          [
           "No"
          ],
          [
           "No"
          ],
          [
           "No"
          ],
          [
           "No"
          ],
          [
           "Yes"
          ],
          [
           "No"
          ],
          [
           "No"
          ],
          [
           "No"
          ],
          [
           "No"
          ],
          [
           "Yes"
          ],
          [
           "No"
          ],
          [
           "No"
          ],
          [
           "No"
          ],
          [
           "Yes"
          ],
          [
           "No"
          ],
          [
           "No"
          ],
          [
           "No"
          ],
          [
           "No"
          ],
          [
           "Yes"
          ],
          [
           "Yes"
          ],
          [
           "No"
          ],
          [
           "No"
          ],
          [
           "Yes"
          ],
          [
           "No"
          ],
          [
           "Yes"
          ],
          [
           "Yes"
          ],
          [
           "Yes"
          ],
          [
           "Yes"
          ],
          [
           "No"
          ],
          [
           "No"
          ],
          [
           "Yes"
          ],
          [
           "No"
          ],
          [
           "No"
          ],
          [
           "No"
          ],
          [
           "No"
          ],
          [
           "No"
          ],
          [
           "Yes"
          ],
          [
           "No"
          ],
          [
           "No"
          ],
          [
           "No"
          ],
          [
           "No"
          ],
          [
           "No"
          ],
          [
           "No"
          ],
          [
           "No"
          ],
          [
           "No"
          ],
          [
           "No"
          ],
          [
           "No"
          ],
          [
           "No"
          ],
          [
           "Yes"
          ],
          [
           "No"
          ],
          [
           "No"
          ],
          [
           "No"
          ],
          [
           "Yes"
          ],
          [
           "No"
          ],
          [
           "Yes"
          ],
          [
           "No"
          ],
          [
           "No"
          ],
          [
           "No"
          ],
          [
           "No"
          ],
          [
           "Yes"
          ],
          [
           "No"
          ],
          [
           "Yes"
          ],
          [
           "No"
          ],
          [
           "No"
          ],
          [
           "No"
          ],
          [
           "No"
          ],
          [
           "Yes"
          ],
          [
           "Yes"
          ],
          [
           "Yes"
          ],
          [
           "No"
          ],
          [
           "No"
          ],
          [
           "No"
          ],
          [
           "No"
          ],
          [
           "Yes"
          ],
          [
           "No"
          ],
          [
           "Yes"
          ],
          [
           "Yes"
          ],
          [
           "No"
          ],
          [
           "No"
          ],
          [
           "No"
          ],
          [
           "No"
          ],
          [
           "No"
          ],
          [
           "Yes"
          ],
          [
           "No"
          ],
          [
           "No"
          ],
          [
           "No"
          ],
          [
           "No"
          ],
          [
           "Yes"
          ],
          [
           "No"
          ],
          [
           "No"
          ],
          [
           "No"
          ],
          [
           "No"
          ],
          [
           "No"
          ],
          [
           "Yes"
          ],
          [
           "No"
          ],
          [
           "No"
          ],
          [
           "Yes"
          ],
          [
           "No"
          ],
          [
           "No"
          ],
          [
           "No"
          ],
          [
           "No"
          ],
          [
           "No"
          ],
          [
           "No"
          ],
          [
           "No"
          ],
          [
           "No"
          ],
          [
           "No"
          ],
          [
           "Yes"
          ],
          [
           "No"
          ],
          [
           "Yes"
          ],
          [
           "Yes"
          ],
          [
           "No"
          ],
          [
           "No"
          ],
          [
           "No"
          ],
          [
           "No"
          ],
          [
           "Yes"
          ],
          [
           "No"
          ],
          [
           "No"
          ],
          [
           "No"
          ],
          [
           "No"
          ],
          [
           "Yes"
          ],
          [
           "No"
          ],
          [
           "Yes"
          ],
          [
           "No"
          ],
          [
           "No"
          ],
          [
           "No"
          ],
          [
           "Yes"
          ],
          [
           "Yes"
          ],
          [
           "No"
          ],
          [
           "Yes"
          ],
          [
           "No"
          ],
          [
           "No"
          ],
          [
           "No"
          ],
          [
           "No"
          ],
          [
           "Yes"
          ],
          [
           "Yes"
          ],
          [
           "Yes"
          ],
          [
           "No"
          ],
          [
           "Yes"
          ],
          [
           "No"
          ],
          [
           "No"
          ],
          [
           "No"
          ],
          [
           "Yes"
          ],
          [
           "No"
          ],
          [
           "No"
          ],
          [
           "No"
          ],
          [
           "No"
          ],
          [
           "Yes"
          ],
          [
           "No"
          ],
          [
           "No"
          ],
          [
           "No"
          ],
          [
           "No"
          ],
          [
           "No"
          ],
          [
           "Yes"
          ],
          [
           "No"
          ],
          [
           "No"
          ],
          [
           "Yes"
          ],
          [
           "No"
          ],
          [
           "No"
          ],
          [
           "No"
          ],
          [
           "No"
          ],
          [
           "No"
          ],
          [
           "No"
          ],
          [
           "No"
          ],
          [
           "No"
          ],
          [
           "Yes"
          ],
          [
           "No"
          ],
          [
           "No"
          ],
          [
           "Yes"
          ],
          [
           "Yes"
          ],
          [
           "Yes"
          ],
          [
           "No"
          ],
          [
           "No"
          ],
          [
           "Yes"
          ],
          [
           "No"
          ],
          [
           "No"
          ],
          [
           "No"
          ],
          [
           "Yes"
          ],
          [
           "Yes"
          ],
          [
           "Yes"
          ],
          [
           "No"
          ],
          [
           "Yes"
          ],
          [
           "No"
          ],
          [
           "Yes"
          ],
          [
           "No"
          ],
          [
           "Yes"
          ],
          [
           "Yes"
          ],
          [
           "No"
          ],
          [
           "No"
          ],
          [
           "No"
          ],
          [
           "Yes"
          ],
          [
           "No"
          ],
          [
           "Yes"
          ],
          [
           "No"
          ],
          [
           "No"
          ],
          [
           "Yes"
          ],
          [
           "No"
          ],
          [
           "No"
          ],
          [
           "No"
          ],
          [
           "No"
          ],
          [
           "Yes"
          ],
          [
           "No"
          ],
          [
           "No"
          ],
          [
           "No"
          ],
          [
           "No"
          ],
          [
           "No"
          ],
          [
           "No"
          ],
          [
           "Yes"
          ],
          [
           "No"
          ],
          [
           "No"
          ],
          [
           "No"
          ],
          [
           "No"
          ],
          [
           "No"
          ],
          [
           "No"
          ],
          [
           "No"
          ],
          [
           "No"
          ],
          [
           "Yes"
          ],
          [
           "Yes"
          ],
          [
           "Yes"
          ],
          [
           "Yes"
          ],
          [
           "No"
          ],
          [
           "Yes"
          ],
          [
           "No"
          ],
          [
           "No"
          ],
          [
           "No"
          ],
          [
           "No"
          ],
          [
           "Yes"
          ],
          [
           "No"
          ],
          [
           "Yes"
          ],
          [
           "No"
          ],
          [
           "No"
          ],
          [
           "No"
          ],
          [
           "No"
          ],
          [
           "Yes"
          ],
          [
           "No"
          ],
          [
           "Yes"
          ],
          [
           "No"
          ],
          [
           "No"
          ],
          [
           "Yes"
          ],
          [
           "No"
          ],
          [
           "Yes"
          ],
          [
           "No"
          ],
          [
           "No"
          ],
          [
           "No"
          ],
          [
           "No"
          ],
          [
           "No"
          ],
          [
           "Yes"
          ],
          [
           "No"
          ],
          [
           "Yes"
          ],
          [
           "No"
          ],
          [
           "No"
          ],
          [
           "No"
          ],
          [
           "No"
          ],
          [
           "No"
          ],
          [
           "No"
          ],
          [
           "Yes"
          ],
          [
           "Yes"
          ],
          [
           "No"
          ],
          [
           "Yes"
          ],
          [
           "No"
          ],
          [
           "No"
          ],
          [
           "No"
          ],
          [
           "No"
          ],
          [
           "Yes"
          ],
          [
           "No"
          ],
          [
           "No"
          ],
          [
           "No"
          ],
          [
           "No"
          ],
          [
           "Yes"
          ],
          [
           "No"
          ],
          [
           "No"
          ],
          [
           "No"
          ],
          [
           "Yes"
          ],
          [
           "No"
          ],
          [
           "No"
          ],
          [
           "No"
          ],
          [
           "Yes"
          ],
          [
           "No"
          ],
          [
           "No"
          ],
          [
           "Yes"
          ],
          [
           "No"
          ],
          [
           "No"
          ],
          [
           "Yes"
          ],
          [
           "Yes"
          ],
          [
           "No"
          ],
          [
           "No"
          ],
          [
           "Yes"
          ],
          [
           "Yes"
          ],
          [
           "Yes"
          ],
          [
           "No"
          ],
          [
           "No"
          ],
          [
           "No"
          ],
          [
           "No"
          ],
          [
           "Yes"
          ],
          [
           "No"
          ],
          [
           "No"
          ],
          [
           "No"
          ],
          [
           "No"
          ],
          [
           "No"
          ],
          [
           "No"
          ],
          [
           "No"
          ],
          [
           "Yes"
          ],
          [
           "Yes"
          ],
          [
           "No"
          ],
          [
           "No"
          ],
          [
           "No"
          ],
          [
           "No"
          ],
          [
           "Yes"
          ],
          [
           "No"
          ],
          [
           "No"
          ],
          [
           "Yes"
          ],
          [
           "No"
          ],
          [
           "No"
          ],
          [
           "No"
          ],
          [
           "No"
          ],
          [
           "Yes"
          ],
          [
           "No"
          ],
          [
           "Yes"
          ],
          [
           "No"
          ],
          [
           "Yes"
          ],
          [
           "No"
          ],
          [
           "No"
          ],
          [
           "Yes"
          ],
          [
           "Yes"
          ],
          [
           "No"
          ],
          [
           "No"
          ],
          [
           "No"
          ],
          [
           "No"
          ],
          [
           "No"
          ],
          [
           "No"
          ],
          [
           "No"
          ],
          [
           "No"
          ],
          [
           "No"
          ],
          [
           "Yes"
          ],
          [
           "No"
          ],
          [
           "No"
          ],
          [
           "Yes"
          ],
          [
           "Yes"
          ],
          [
           "Yes"
          ],
          [
           "No"
          ],
          [
           "Yes"
          ],
          [
           "No"
          ],
          [
           "Yes"
          ],
          [
           "Yes"
          ],
          [
           "No"
          ],
          [
           "Yes"
          ],
          [
           "No"
          ],
          [
           "No"
          ],
          [
           "No"
          ],
          [
           "No"
          ],
          [
           "Yes"
          ],
          [
           "No"
          ],
          [
           "Yes"
          ],
          [
           "Yes"
          ],
          [
           "Yes"
          ],
          [
           "No"
          ],
          [
           "No"
          ],
          [
           "No"
          ],
          [
           "Yes"
          ],
          [
           "No"
          ],
          [
           "Yes"
          ],
          [
           "No"
          ],
          [
           "No"
          ],
          [
           "No"
          ],
          [
           "No"
          ],
          [
           "Yes"
          ],
          [
           "Yes"
          ],
          [
           "No"
          ],
          [
           "No"
          ],
          [
           "Yes"
          ],
          [
           "No"
          ],
          [
           "No"
          ],
          [
           "No"
          ],
          [
           "No"
          ],
          [
           "Yes"
          ],
          [
           "No"
          ],
          [
           "No"
          ],
          [
           "No"
          ],
          [
           "No"
          ],
          [
           "No"
          ],
          [
           "No"
          ],
          [
           "No"
          ],
          [
           "Yes"
          ],
          [
           "No"
          ],
          [
           "No"
          ],
          [
           "No"
          ],
          [
           "No"
          ],
          [
           "Yes"
          ],
          [
           "No"
          ],
          [
           "No"
          ],
          [
           "Yes"
          ],
          [
           "No"
          ],
          [
           "No"
          ],
          [
           "No"
          ],
          [
           "No"
          ],
          [
           "No"
          ],
          [
           "Yes"
          ],
          [
           "No"
          ],
          [
           "No"
          ],
          [
           "No"
          ],
          [
           "No"
          ],
          [
           "No"
          ],
          [
           "No"
          ],
          [
           "No"
          ],
          [
           "No"
          ],
          [
           "No"
          ],
          [
           "No"
          ],
          [
           "No"
          ],
          [
           "Yes"
          ],
          [
           "No"
          ],
          [
           "No"
          ],
          [
           "No"
          ],
          [
           "No"
          ],
          [
           "No"
          ],
          [
           "No"
          ],
          [
           "No"
          ],
          [
           "No"
          ],
          [
           "No"
          ],
          [
           "Yes"
          ],
          [
           "No"
          ],
          [
           "No"
          ],
          [
           "No"
          ],
          [
           "No"
          ],
          [
           "No"
          ],
          [
           "No"
          ],
          [
           "No"
          ],
          [
           "No"
          ],
          [
           "No"
          ],
          [
           "No"
          ],
          [
           "No"
          ],
          [
           "No"
          ],
          [
           "No"
          ],
          [
           "No"
          ],
          [
           "No"
          ],
          [
           "No"
          ],
          [
           "No"
          ],
          [
           "No"
          ],
          [
           "No"
          ],
          [
           "Yes"
          ],
          [
           "No"
          ],
          [
           "No"
          ],
          [
           "Yes"
          ],
          [
           "No"
          ],
          [
           "No"
          ],
          [
           "No"
          ],
          [
           "No"
          ],
          [
           "Yes"
          ],
          [
           "No"
          ],
          [
           "No"
          ],
          [
           "Yes"
          ],
          [
           "Yes"
          ],
          [
           "No"
          ],
          [
           "Yes"
          ],
          [
           "No"
          ],
          [
           "No"
          ],
          [
           "No"
          ],
          [
           "No"
          ],
          [
           "No"
          ],
          [
           "No"
          ],
          [
           "No"
          ],
          [
           "No"
          ],
          [
           "No"
          ],
          [
           "No"
          ],
          [
           "Yes"
          ],
          [
           "No"
          ],
          [
           "Yes"
          ],
          [
           "Yes"
          ],
          [
           "Yes"
          ],
          [
           "No"
          ],
          [
           "No"
          ],
          [
           "No"
          ],
          [
           "No"
          ],
          [
           "Yes"
          ],
          [
           "No"
          ],
          [
           "No"
          ],
          [
           "No"
          ],
          [
           "No"
          ],
          [
           "Yes"
          ],
          [
           "No"
          ],
          [
           "No"
          ],
          [
           "No"
          ],
          [
           "No"
          ],
          [
           "No"
          ],
          [
           "No"
          ],
          [
           "Yes"
          ],
          [
           "No"
          ],
          [
           "No"
          ],
          [
           "No"
          ],
          [
           "No"
          ],
          [
           "Yes"
          ],
          [
           "No"
          ],
          [
           "No"
          ],
          [
           "No"
          ],
          [
           "No"
          ],
          [
           "No"
          ],
          [
           "No"
          ],
          [
           "No"
          ],
          [
           "No"
          ],
          [
           "No"
          ],
          [
           "Yes"
          ],
          [
           "Yes"
          ],
          [
           "Yes"
          ],
          [
           "Yes"
          ],
          [
           "No"
          ],
          [
           "No"
          ],
          [
           "No"
          ],
          [
           "Yes"
          ],
          [
           "Yes"
          ],
          [
           "No"
          ],
          [
           "Yes"
          ],
          [
           "No"
          ],
          [
           "No"
          ],
          [
           "No"
          ],
          [
           "No"
          ],
          [
           "Yes"
          ],
          [
           "No"
          ],
          [
           "No"
          ],
          [
           "No"
          ],
          [
           "No"
          ],
          [
           "No"
          ],
          [
           "No"
          ],
          [
           "No"
          ],
          [
           "No"
          ],
          [
           "Yes"
          ],
          [
           "No"
          ],
          [
           "Yes"
          ],
          [
           "No"
          ],
          [
           "No"
          ],
          [
           "No"
          ],
          [
           "No"
          ],
          [
           "Yes"
          ],
          [
           "No"
          ],
          [
           "No"
          ],
          [
           "No"
          ],
          [
           "No"
          ],
          [
           "No"
          ],
          [
           "Yes"
          ],
          [
           "No"
          ],
          [
           "No"
          ],
          [
           "No"
          ],
          [
           "Yes"
          ],
          [
           "No"
          ],
          [
           "Yes"
          ],
          [
           "No"
          ],
          [
           "Yes"
          ],
          [
           "No"
          ],
          [
           "No"
          ],
          [
           "No"
          ],
          [
           "Yes"
          ],
          [
           "Yes"
          ],
          [
           "No"
          ],
          [
           "Yes"
          ],
          [
           "Yes"
          ],
          [
           "No"
          ],
          [
           "No"
          ],
          [
           "Yes"
          ],
          [
           "Yes"
          ],
          [
           "Yes"
          ],
          [
           "No"
          ],
          [
           "No"
          ],
          [
           "No"
          ],
          [
           "No"
          ],
          [
           "No"
          ],
          [
           "No"
          ],
          [
           "No"
          ],
          [
           "No"
          ],
          [
           "No"
          ],
          [
           "No"
          ],
          [
           "No"
          ],
          [
           "No"
          ],
          [
           "No"
          ],
          [
           "No"
          ],
          [
           "No"
          ],
          [
           "No"
          ],
          [
           "No"
          ],
          [
           "Yes"
          ],
          [
           "Yes"
          ],
          [
           "Yes"
          ],
          [
           "No"
          ],
          [
           "Yes"
          ],
          [
           "No"
          ],
          [
           "Yes"
          ],
          [
           "No"
          ],
          [
           "No"
          ],
          [
           "No"
          ],
          [
           "No"
          ],
          [
           "No"
          ],
          [
           "No"
          ],
          [
           "No"
          ],
          [
           "No"
          ],
          [
           "No"
          ],
          [
           "Yes"
          ],
          [
           "No"
          ],
          [
           "No"
          ],
          [
           "Yes"
          ],
          [
           "No"
          ],
          [
           "No"
          ],
          [
           "No"
          ],
          [
           "No"
          ],
          [
           "No"
          ],
          [
           "No"
          ],
          [
           "No"
          ],
          [
           "No"
          ],
          [
           "No"
          ],
          [
           "No"
          ],
          [
           "No"
          ],
          [
           "No"
          ],
          [
           "Yes"
          ],
          [
           "No"
          ],
          [
           "No"
          ],
          [
           "No"
          ],
          [
           "No"
          ],
          [
           "Yes"
          ],
          [
           "No"
          ],
          [
           "No"
          ],
          [
           "No"
          ],
          [
           "No"
          ],
          [
           "No"
          ],
          [
           "Yes"
          ],
          [
           "Yes"
          ],
          [
           "No"
          ],
          [
           "No"
          ],
          [
           "Yes"
          ],
          [
           "No"
          ],
          [
           "Yes"
          ],
          [
           "No"
          ],
          [
           "Yes"
          ],
          [
           "No"
          ],
          [
           "Yes"
          ],
          [
           "No"
          ],
          [
           "No"
          ],
          [
           "No"
          ],
          [
           "No"
          ],
          [
           "Yes"
          ],
          [
           "No"
          ],
          [
           "No"
          ],
          [
           "No"
          ],
          [
           "No"
          ],
          [
           "Yes"
          ],
          [
           "No"
          ],
          [
           "No"
          ],
          [
           "No"
          ],
          [
           "Yes"
          ],
          [
           "No"
          ],
          [
           "No"
          ],
          [
           "Yes"
          ],
          [
           "No"
          ],
          [
           "No"
          ],
          [
           "No"
          ],
          [
           "Yes"
          ],
          [
           "No"
          ],
          [
           "Yes"
          ],
          [
           "Yes"
          ],
          [
           "No"
          ],
          [
           "No"
          ],
          [
           "No"
          ],
          [
           "Yes"
          ],
          [
           "Yes"
          ],
          [
           "No"
          ],
          [
           "No"
          ],
          [
           "No"
          ],
          [
           "Yes"
          ],
          [
           "No"
          ],
          [
           "No"
          ],
          [
           "No"
          ],
          [
           "No"
          ],
          [
           "No"
          ],
          [
           "No"
          ],
          [
           "No"
          ],
          [
           "No"
          ],
          [
           "No"
          ],
          [
           "No"
          ],
          [
           "No"
          ],
          [
           "No"
          ],
          [
           "No"
          ],
          [
           "Yes"
          ],
          [
           "Yes"
          ],
          [
           "No"
          ],
          [
           "No"
          ],
          [
           "No"
          ],
          [
           "Yes"
          ],
          [
           "No"
          ],
          [
           "No"
          ],
          [
           "No"
          ],
          [
           "Yes"
          ],
          [
           "No"
          ],
          [
           "No"
          ],
          [
           "No"
          ],
          [
           "No"
          ],
          [
           "No"
          ],
          [
           "No"
          ],
          [
           "No"
          ],
          [
           "No"
          ],
          [
           "No"
          ],
          [
           "Yes"
          ],
          [
           "No"
          ],
          [
           "No"
          ],
          [
           "No"
          ],
          [
           "No"
          ],
          [
           "No"
          ],
          [
           "Yes"
          ],
          [
           "No"
          ],
          [
           "No"
          ],
          [
           "No"
          ],
          [
           "No"
          ],
          [
           "No"
          ],
          [
           "No"
          ],
          [
           "No"
          ],
          [
           "Yes"
          ],
          [
           "No"
          ],
          [
           "No"
          ],
          [
           "No"
          ],
          [
           "No"
          ],
          [
           "No"
          ],
          [
           "No"
          ],
          [
           "No"
          ],
          [
           "No"
          ],
          [
           "No"
          ],
          [
           "No"
          ],
          [
           "No"
          ],
          [
           "No"
          ],
          [
           "No"
          ],
          [
           "Yes"
          ],
          [
           "No"
          ],
          [
           "No"
          ],
          [
           "Yes"
          ],
          [
           "No"
          ],
          [
           "No"
          ],
          [
           "No"
          ],
          [
           "Yes"
          ],
          [
           "No"
          ],
          [
           "No"
          ],
          [
           "No"
          ],
          [
           "No"
          ],
          [
           "No"
          ],
          [
           "No"
          ],
          [
           "No"
          ],
          [
           "No"
          ],
          [
           "No"
          ],
          [
           "No"
          ],
          [
           "No"
          ],
          [
           "No"
          ],
          [
           "No"
          ],
          [
           "No"
          ],
          [
           "No"
          ],
          [
           "No"
          ],
          [
           "No"
          ],
          [
           "No"
          ],
          [
           "Yes"
          ],
          [
           "No"
          ]
         ],
         "domain": {
          "x": [
           0,
           1
          ],
          "y": [
           0,
           1
          ]
         },
         "hovertemplate": "Loan_Status=%{customdata[0]}<extra></extra>",
         "labels": [
          "No",
          "Yes",
          "No",
          "No",
          "No",
          "No",
          "No",
          "Yes",
          "No",
          "Yes",
          "No",
          "No",
          "No",
          "Yes",
          "No",
          "No",
          "No",
          "Yes",
          "Yes",
          "No",
          "Yes",
          "No",
          "Yes",
          "Yes",
          "Yes",
          "No",
          "No",
          "No",
          "Yes",
          "No",
          "Yes",
          "Yes",
          "Yes",
          "No",
          "Yes",
          "No",
          "Yes",
          "No",
          "No",
          "No",
          "Yes",
          "No",
          "No",
          "No",
          "No",
          "No",
          "No",
          "No",
          "Yes",
          "No",
          "No",
          "No",
          "Yes",
          "Yes",
          "Yes",
          "No",
          "No",
          "Yes",
          "No",
          "No",
          "No",
          "No",
          "Yes",
          "Yes",
          "Yes",
          "Yes",
          "Yes",
          "No",
          "No",
          "Yes",
          "No",
          "No",
          "No",
          "Yes",
          "No",
          "Yes",
          "Yes",
          "Yes",
          "Yes",
          "No",
          "No",
          "No",
          "Yes",
          "Yes",
          "No",
          "No",
          "No",
          "No",
          "No",
          "No",
          "No",
          "No",
          "No",
          "No",
          "No",
          "Yes",
          "No",
          "No",
          "No",
          "No",
          "No",
          "No",
          "No",
          "No",
          "No",
          "No",
          "No",
          "Yes",
          "Yes",
          "No",
          "No",
          "No",
          "Yes",
          "No",
          "No",
          "No",
          "No",
          "No",
          "Yes",
          "No",
          "No",
          "No",
          "No",
          "No",
          "No",
          "No",
          "No",
          "No",
          "Yes",
          "Yes",
          "No",
          "No",
          "No",
          "No",
          "No",
          "Yes",
          "Yes",
          "No",
          "Yes",
          "Yes",
          "Yes",
          "No",
          "No",
          "No",
          "No",
          "No",
          "No",
          "No",
          "Yes",
          "No",
          "Yes",
          "No",
          "Yes",
          "Yes",
          "No",
          "No",
          "No",
          "No",
          "No",
          "No",
          "No",
          "Yes",
          "Yes",
          "No",
          "No",
          "No",
          "Yes",
          "No",
          "Yes",
          "No",
          "No",
          "No",
          "Yes",
          "No",
          "Yes",
          "No",
          "No",
          "Yes",
          "No",
          "Yes",
          "Yes",
          "Yes",
          "No",
          "Yes",
          "No",
          "No",
          "Yes",
          "No",
          "No",
          "No",
          "No",
          "Yes",
          "Yes",
          "No",
          "No",
          "Yes",
          "No",
          "No",
          "No",
          "Yes",
          "No",
          "No",
          "Yes",
          "No",
          "No",
          "No",
          "No",
          "No",
          "No",
          "Yes",
          "Yes",
          "Yes",
          "No",
          "No",
          "No",
          "No",
          "Yes",
          "No",
          "Yes",
          "No",
          "Yes",
          "No",
          "No",
          "No",
          "No",
          "Yes",
          "Yes",
          "No",
          "No",
          "No",
          "No",
          "No",
          "No",
          "No",
          "No",
          "No",
          "Yes",
          "No",
          "No",
          "No",
          "No",
          "Yes",
          "No",
          "No",
          "No",
          "Yes",
          "No",
          "No",
          "No",
          "No",
          "Yes",
          "Yes",
          "No",
          "No",
          "Yes",
          "No",
          "Yes",
          "Yes",
          "Yes",
          "Yes",
          "No",
          "No",
          "Yes",
          "No",
          "No",
          "No",
          "No",
          "No",
          "Yes",
          "No",
          "No",
          "No",
          "No",
          "No",
          "No",
          "No",
          "No",
          "No",
          "No",
          "No",
          "Yes",
          "No",
          "No",
          "No",
          "Yes",
          "No",
          "Yes",
          "No",
          "No",
          "No",
          "No",
          "Yes",
          "No",
          "Yes",
          "No",
          "No",
          "No",
          "No",
          "Yes",
          "Yes",
          "Yes",
          "No",
          "No",
          "No",
          "No",
          "Yes",
          "No",
          "Yes",
          "Yes",
          "No",
          "No",
          "No",
          "No",
          "No",
          "Yes",
          "No",
          "No",
          "No",
          "No",
          "Yes",
          "No",
          "No",
          "No",
          "No",
          "No",
          "Yes",
          "No",
          "No",
          "Yes",
          "No",
          "No",
          "No",
          "No",
          "No",
          "No",
          "No",
          "No",
          "No",
          "Yes",
          "No",
          "Yes",
          "Yes",
          "No",
          "No",
          "No",
          "No",
          "Yes",
          "No",
          "No",
          "No",
          "No",
          "Yes",
          "No",
          "Yes",
          "No",
          "No",
          "No",
          "Yes",
          "Yes",
          "No",
          "Yes",
          "No",
          "No",
          "No",
          "No",
          "Yes",
          "Yes",
          "Yes",
          "No",
          "Yes",
          "No",
          "No",
          "No",
          "Yes",
          "No",
          "No",
          "No",
          "No",
          "Yes",
          "No",
          "No",
          "No",
          "No",
          "No",
          "Yes",
          "No",
          "No",
          "Yes",
          "No",
          "No",
          "No",
          "No",
          "No",
          "No",
          "No",
          "No",
          "Yes",
          "No",
          "No",
          "Yes",
          "Yes",
          "Yes",
          "No",
          "No",
          "Yes",
          "No",
          "No",
          "No",
          "Yes",
          "Yes",
          "Yes",
          "No",
          "Yes",
          "No",
          "Yes",
          "No",
          "Yes",
          "Yes",
          "No",
          "No",
          "No",
          "Yes",
          "No",
          "Yes",
          "No",
          "No",
          "Yes",
          "No",
          "No",
          "No",
          "No",
          "Yes",
          "No",
          "No",
          "No",
          "No",
          "No",
          "No",
          "Yes",
          "No",
          "No",
          "No",
          "No",
          "No",
          "No",
          "No",
          "No",
          "Yes",
          "Yes",
          "Yes",
          "Yes",
          "No",
          "Yes",
          "No",
          "No",
          "No",
          "No",
          "Yes",
          "No",
          "Yes",
          "No",
          "No",
          "No",
          "No",
          "Yes",
          "No",
          "Yes",
          "No",
          "No",
          "Yes",
          "No",
          "Yes",
          "No",
          "No",
          "No",
          "No",
          "No",
          "Yes",
          "No",
          "Yes",
          "No",
          "No",
          "No",
          "No",
          "No",
          "No",
          "Yes",
          "Yes",
          "No",
          "Yes",
          "No",
          "No",
          "No",
          "No",
          "Yes",
          "No",
          "No",
          "No",
          "No",
          "Yes",
          "No",
          "No",
          "No",
          "Yes",
          "No",
          "No",
          "No",
          "Yes",
          "No",
          "No",
          "Yes",
          "No",
          "No",
          "Yes",
          "Yes",
          "No",
          "No",
          "Yes",
          "Yes",
          "Yes",
          "No",
          "No",
          "No",
          "No",
          "Yes",
          "No",
          "No",
          "No",
          "No",
          "No",
          "No",
          "No",
          "Yes",
          "Yes",
          "No",
          "No",
          "No",
          "No",
          "Yes",
          "No",
          "No",
          "Yes",
          "No",
          "No",
          "No",
          "No",
          "Yes",
          "No",
          "Yes",
          "No",
          "Yes",
          "No",
          "No",
          "Yes",
          "Yes",
          "No",
          "No",
          "No",
          "No",
          "No",
          "No",
          "No",
          "No",
          "No",
          "Yes",
          "No",
          "No",
          "Yes",
          "Yes",
          "Yes",
          "No",
          "Yes",
          "No",
          "Yes",
          "Yes",
          "No",
          "Yes",
          "No",
          "No",
          "No",
          "No",
          "Yes",
          "No",
          "Yes",
          "Yes",
          "Yes",
          "No",
          "No",
          "No",
          "Yes",
          "No",
          "Yes",
          "No",
          "No",
          "No",
          "No",
          "Yes",
          "Yes",
          "No",
          "No",
          "Yes",
          "No",
          "No",
          "No",
          "No",
          "Yes",
          "No",
          "No",
          "No",
          "No",
          "No",
          "No",
          "No",
          "Yes",
          "No",
          "No",
          "No",
          "No",
          "Yes",
          "No",
          "No",
          "Yes",
          "No",
          "No",
          "No",
          "No",
          "No",
          "Yes",
          "No",
          "No",
          "No",
          "No",
          "No",
          "No",
          "No",
          "No",
          "No",
          "No",
          "No",
          "Yes",
          "No",
          "No",
          "No",
          "No",
          "No",
          "No",
          "No",
          "No",
          "No",
          "Yes",
          "No",
          "No",
          "No",
          "No",
          "No",
          "No",
          "No",
          "No",
          "No",
          "No",
          "No",
          "No",
          "No",
          "No",
          "No",
          "No",
          "No",
          "No",
          "No",
          "Yes",
          "No",
          "No",
          "Yes",
          "No",
          "No",
          "No",
          "No",
          "Yes",
          "No",
          "No",
          "Yes",
          "Yes",
          "No",
          "Yes",
          "No",
          "No",
          "No",
          "No",
          "No",
          "No",
          "No",
          "No",
          "No",
          "No",
          "Yes",
          "No",
          "Yes",
          "Yes",
          "Yes",
          "No",
          "No",
          "No",
          "No",
          "Yes",
          "No",
          "No",
          "No",
          "No",
          "Yes",
          "No",
          "No",
          "No",
          "No",
          "No",
          "No",
          "Yes",
          "No",
          "No",
          "No",
          "No",
          "Yes",
          "No",
          "No",
          "No",
          "No",
          "No",
          "No",
          "No",
          "No",
          "No",
          "Yes",
          "Yes",
          "Yes",
          "Yes",
          "No",
          "No",
          "No",
          "Yes",
          "Yes",
          "No",
          "Yes",
          "No",
          "No",
          "No",
          "No",
          "Yes",
          "No",
          "No",
          "No",
          "No",
          "No",
          "No",
          "No",
          "No",
          "Yes",
          "No",
          "Yes",
          "No",
          "No",
          "No",
          "No",
          "Yes",
          "No",
          "No",
          "No",
          "No",
          "No",
          "Yes",
          "No",
          "No",
          "No",
          "Yes",
          "No",
          "Yes",
          "No",
          "Yes",
          "No",
          "No",
          "No",
          "Yes",
          "Yes",
          "No",
          "Yes",
          "Yes",
          "No",
          "No",
          "Yes",
          "Yes",
          "Yes",
          "No",
          "No",
          "No",
          "No",
          "No",
          "No",
          "No",
          "No",
          "No",
          "No",
          "No",
          "No",
          "No",
          "No",
          "No",
          "No",
          "No",
          "Yes",
          "Yes",
          "Yes",
          "No",
          "Yes",
          "No",
          "Yes",
          "No",
          "No",
          "No",
          "No",
          "No",
          "No",
          "No",
          "No",
          "No",
          "Yes",
          "No",
          "No",
          "Yes",
          "No",
          "No",
          "No",
          "No",
          "No",
          "No",
          "No",
          "No",
          "No",
          "No",
          "No",
          "No",
          "Yes",
          "No",
          "No",
          "No",
          "No",
          "Yes",
          "No",
          "No",
          "No",
          "No",
          "No",
          "Yes",
          "Yes",
          "No",
          "No",
          "Yes",
          "No",
          "Yes",
          "No",
          "Yes",
          "No",
          "Yes",
          "No",
          "No",
          "No",
          "No",
          "Yes",
          "No",
          "No",
          "No",
          "No",
          "Yes",
          "No",
          "No",
          "No",
          "Yes",
          "No",
          "No",
          "Yes",
          "No",
          "No",
          "No",
          "Yes",
          "No",
          "Yes",
          "Yes",
          "No",
          "No",
          "No",
          "Yes",
          "Yes",
          "No",
          "No",
          "No",
          "Yes",
          "No",
          "No",
          "No",
          "No",
          "No",
          "No",
          "No",
          "No",
          "No",
          "No",
          "No",
          "No",
          "No",
          "Yes",
          "Yes",
          "No",
          "No",
          "No",
          "Yes",
          "No",
          "No",
          "No",
          "Yes",
          "No",
          "No",
          "No",
          "No",
          "No",
          "No",
          "No",
          "No",
          "No",
          "Yes",
          "No",
          "No",
          "No",
          "No",
          "No",
          "Yes",
          "No",
          "No",
          "No",
          "No",
          "No",
          "No",
          "No",
          "Yes",
          "No",
          "No",
          "No",
          "No",
          "No",
          "No",
          "No",
          "No",
          "No",
          "No",
          "No",
          "No",
          "No",
          "Yes",
          "No",
          "No",
          "Yes",
          "No",
          "No",
          "No",
          "Yes",
          "No",
          "No",
          "No",
          "No",
          "No",
          "No",
          "No",
          "No",
          "No",
          "No",
          "No",
          "No",
          "No",
          "No",
          "No",
          "No",
          "No",
          "No",
          "Yes",
          "No"
         ],
         "legendgroup": "",
         "marker": {
          "colors": [
           "#00cc96",
           "red",
           "#00cc96",
           "#00cc96",
           "#00cc96",
           "#00cc96",
           "#00cc96",
           "red",
           "#00cc96",
           "red",
           "#00cc96",
           "#00cc96",
           "#00cc96",
           "red",
           "#00cc96",
           "#00cc96",
           "#00cc96",
           "red",
           "red",
           "#00cc96",
           "red",
           "#00cc96",
           "red",
           "red",
           "red",
           "#00cc96",
           "#00cc96",
           "#00cc96",
           "red",
           "#00cc96",
           "red",
           "red",
           "red",
           "#00cc96",
           "red",
           "#00cc96",
           "red",
           "#00cc96",
           "#00cc96",
           "#00cc96",
           "red",
           "#00cc96",
           "#00cc96",
           "#00cc96",
           "#00cc96",
           "#00cc96",
           "#00cc96",
           "#00cc96",
           "red",
           "#00cc96",
           "#00cc96",
           "#00cc96",
           "red",
           "red",
           "red",
           "#00cc96",
           "#00cc96",
           "red",
           "#00cc96",
           "#00cc96",
           "#00cc96",
           "#00cc96",
           "red",
           "red",
           "red",
           "red",
           "red",
           "#00cc96",
           "#00cc96",
           "red",
           "#00cc96",
           "#00cc96",
           "#00cc96",
           "red",
           "#00cc96",
           "red",
           "red",
           "red",
           "red",
           "#00cc96",
           "#00cc96",
           "#00cc96",
           "red",
           "red",
           "#00cc96",
           "#00cc96",
           "#00cc96",
           "#00cc96",
           "#00cc96",
           "#00cc96",
           "#00cc96",
           "#00cc96",
           "#00cc96",
           "#00cc96",
           "#00cc96",
           "red",
           "#00cc96",
           "#00cc96",
           "#00cc96",
           "#00cc96",
           "#00cc96",
           "#00cc96",
           "#00cc96",
           "#00cc96",
           "#00cc96",
           "#00cc96",
           "#00cc96",
           "red",
           "red",
           "#00cc96",
           "#00cc96",
           "#00cc96",
           "red",
           "#00cc96",
           "#00cc96",
           "#00cc96",
           "#00cc96",
           "#00cc96",
           "red",
           "#00cc96",
           "#00cc96",
           "#00cc96",
           "#00cc96",
           "#00cc96",
           "#00cc96",
           "#00cc96",
           "#00cc96",
           "#00cc96",
           "red",
           "red",
           "#00cc96",
           "#00cc96",
           "#00cc96",
           "#00cc96",
           "#00cc96",
           "red",
           "red",
           "#00cc96",
           "red",
           "red",
           "red",
           "#00cc96",
           "#00cc96",
           "#00cc96",
           "#00cc96",
           "#00cc96",
           "#00cc96",
           "#00cc96",
           "red",
           "#00cc96",
           "red",
           "#00cc96",
           "red",
           "red",
           "#00cc96",
           "#00cc96",
           "#00cc96",
           "#00cc96",
           "#00cc96",
           "#00cc96",
           "#00cc96",
           "red",
           "red",
           "#00cc96",
           "#00cc96",
           "#00cc96",
           "red",
           "#00cc96",
           "red",
           "#00cc96",
           "#00cc96",
           "#00cc96",
           "red",
           "#00cc96",
           "red",
           "#00cc96",
           "#00cc96",
           "red",
           "#00cc96",
           "red",
           "red",
           "red",
           "#00cc96",
           "red",
           "#00cc96",
           "#00cc96",
           "red",
           "#00cc96",
           "#00cc96",
           "#00cc96",
           "#00cc96",
           "red",
           "red",
           "#00cc96",
           "#00cc96",
           "red",
           "#00cc96",
           "#00cc96",
           "#00cc96",
           "red",
           "#00cc96",
           "#00cc96",
           "red",
           "#00cc96",
           "#00cc96",
           "#00cc96",
           "#00cc96",
           "#00cc96",
           "#00cc96",
           "red",
           "red",
           "red",
           "#00cc96",
           "#00cc96",
           "#00cc96",
           "#00cc96",
           "red",
           "#00cc96",
           "red",
           "#00cc96",
           "red",
           "#00cc96",
           "#00cc96",
           "#00cc96",
           "#00cc96",
           "red",
           "red",
           "#00cc96",
           "#00cc96",
           "#00cc96",
           "#00cc96",
           "#00cc96",
           "#00cc96",
           "#00cc96",
           "#00cc96",
           "#00cc96",
           "red",
           "#00cc96",
           "#00cc96",
           "#00cc96",
           "#00cc96",
           "red",
           "#00cc96",
           "#00cc96",
           "#00cc96",
           "red",
           "#00cc96",
           "#00cc96",
           "#00cc96",
           "#00cc96",
           "red",
           "red",
           "#00cc96",
           "#00cc96",
           "red",
           "#00cc96",
           "red",
           "red",
           "red",
           "red",
           "#00cc96",
           "#00cc96",
           "red",
           "#00cc96",
           "#00cc96",
           "#00cc96",
           "#00cc96",
           "#00cc96",
           "red",
           "#00cc96",
           "#00cc96",
           "#00cc96",
           "#00cc96",
           "#00cc96",
           "#00cc96",
           "#00cc96",
           "#00cc96",
           "#00cc96",
           "#00cc96",
           "#00cc96",
           "red",
           "#00cc96",
           "#00cc96",
           "#00cc96",
           "red",
           "#00cc96",
           "red",
           "#00cc96",
           "#00cc96",
           "#00cc96",
           "#00cc96",
           "red",
           "#00cc96",
           "red",
           "#00cc96",
           "#00cc96",
           "#00cc96",
           "#00cc96",
           "red",
           "red",
           "red",
           "#00cc96",
           "#00cc96",
           "#00cc96",
           "#00cc96",
           "red",
           "#00cc96",
           "red",
           "red",
           "#00cc96",
           "#00cc96",
           "#00cc96",
           "#00cc96",
           "#00cc96",
           "red",
           "#00cc96",
           "#00cc96",
           "#00cc96",
           "#00cc96",
           "red",
           "#00cc96",
           "#00cc96",
           "#00cc96",
           "#00cc96",
           "#00cc96",
           "red",
           "#00cc96",
           "#00cc96",
           "red",
           "#00cc96",
           "#00cc96",
           "#00cc96",
           "#00cc96",
           "#00cc96",
           "#00cc96",
           "#00cc96",
           "#00cc96",
           "#00cc96",
           "red",
           "#00cc96",
           "red",
           "red",
           "#00cc96",
           "#00cc96",
           "#00cc96",
           "#00cc96",
           "red",
           "#00cc96",
           "#00cc96",
           "#00cc96",
           "#00cc96",
           "red",
           "#00cc96",
           "red",
           "#00cc96",
           "#00cc96",
           "#00cc96",
           "red",
           "red",
           "#00cc96",
           "red",
           "#00cc96",
           "#00cc96",
           "#00cc96",
           "#00cc96",
           "red",
           "red",
           "red",
           "#00cc96",
           "red",
           "#00cc96",
           "#00cc96",
           "#00cc96",
           "red",
           "#00cc96",
           "#00cc96",
           "#00cc96",
           "#00cc96",
           "red",
           "#00cc96",
           "#00cc96",
           "#00cc96",
           "#00cc96",
           "#00cc96",
           "red",
           "#00cc96",
           "#00cc96",
           "red",
           "#00cc96",
           "#00cc96",
           "#00cc96",
           "#00cc96",
           "#00cc96",
           "#00cc96",
           "#00cc96",
           "#00cc96",
           "red",
           "#00cc96",
           "#00cc96",
           "red",
           "red",
           "red",
           "#00cc96",
           "#00cc96",
           "red",
           "#00cc96",
           "#00cc96",
           "#00cc96",
           "red",
           "red",
           "red",
           "#00cc96",
           "red",
           "#00cc96",
           "red",
           "#00cc96",
           "red",
           "red",
           "#00cc96",
           "#00cc96",
           "#00cc96",
           "red",
           "#00cc96",
           "red",
           "#00cc96",
           "#00cc96",
           "red",
           "#00cc96",
           "#00cc96",
           "#00cc96",
           "#00cc96",
           "red",
           "#00cc96",
           "#00cc96",
           "#00cc96",
           "#00cc96",
           "#00cc96",
           "#00cc96",
           "red",
           "#00cc96",
           "#00cc96",
           "#00cc96",
           "#00cc96",
           "#00cc96",
           "#00cc96",
           "#00cc96",
           "#00cc96",
           "red",
           "red",
           "red",
           "red",
           "#00cc96",
           "red",
           "#00cc96",
           "#00cc96",
           "#00cc96",
           "#00cc96",
           "red",
           "#00cc96",
           "red",
           "#00cc96",
           "#00cc96",
           "#00cc96",
           "#00cc96",
           "red",
           "#00cc96",
           "red",
           "#00cc96",
           "#00cc96",
           "red",
           "#00cc96",
           "red",
           "#00cc96",
           "#00cc96",
           "#00cc96",
           "#00cc96",
           "#00cc96",
           "red",
           "#00cc96",
           "red",
           "#00cc96",
           "#00cc96",
           "#00cc96",
           "#00cc96",
           "#00cc96",
           "#00cc96",
           "red",
           "red",
           "#00cc96",
           "red",
           "#00cc96",
           "#00cc96",
           "#00cc96",
           "#00cc96",
           "red",
           "#00cc96",
           "#00cc96",
           "#00cc96",
           "#00cc96",
           "red",
           "#00cc96",
           "#00cc96",
           "#00cc96",
           "red",
           "#00cc96",
           "#00cc96",
           "#00cc96",
           "red",
           "#00cc96",
           "#00cc96",
           "red",
           "#00cc96",
           "#00cc96",
           "red",
           "red",
           "#00cc96",
           "#00cc96",
           "red",
           "red",
           "red",
           "#00cc96",
           "#00cc96",
           "#00cc96",
           "#00cc96",
           "red",
           "#00cc96",
           "#00cc96",
           "#00cc96",
           "#00cc96",
           "#00cc96",
           "#00cc96",
           "#00cc96",
           "red",
           "red",
           "#00cc96",
           "#00cc96",
           "#00cc96",
           "#00cc96",
           "red",
           "#00cc96",
           "#00cc96",
           "red",
           "#00cc96",
           "#00cc96",
           "#00cc96",
           "#00cc96",
           "red",
           "#00cc96",
           "red",
           "#00cc96",
           "red",
           "#00cc96",
           "#00cc96",
           "red",
           "red",
           "#00cc96",
           "#00cc96",
           "#00cc96",
           "#00cc96",
           "#00cc96",
           "#00cc96",
           "#00cc96",
           "#00cc96",
           "#00cc96",
           "red",
           "#00cc96",
           "#00cc96",
           "red",
           "red",
           "red",
           "#00cc96",
           "red",
           "#00cc96",
           "red",
           "red",
           "#00cc96",
           "red",
           "#00cc96",
           "#00cc96",
           "#00cc96",
           "#00cc96",
           "red",
           "#00cc96",
           "red",
           "red",
           "red",
           "#00cc96",
           "#00cc96",
           "#00cc96",
           "red",
           "#00cc96",
           "red",
           "#00cc96",
           "#00cc96",
           "#00cc96",
           "#00cc96",
           "red",
           "red",
           "#00cc96",
           "#00cc96",
           "red",
           "#00cc96",
           "#00cc96",
           "#00cc96",
           "#00cc96",
           "red",
           "#00cc96",
           "#00cc96",
           "#00cc96",
           "#00cc96",
           "#00cc96",
           "#00cc96",
           "#00cc96",
           "red",
           "#00cc96",
           "#00cc96",
           "#00cc96",
           "#00cc96",
           "red",
           "#00cc96",
           "#00cc96",
           "red",
           "#00cc96",
           "#00cc96",
           "#00cc96",
           "#00cc96",
           "#00cc96",
           "red",
           "#00cc96",
           "#00cc96",
           "#00cc96",
           "#00cc96",
           "#00cc96",
           "#00cc96",
           "#00cc96",
           "#00cc96",
           "#00cc96",
           "#00cc96",
           "#00cc96",
           "red",
           "#00cc96",
           "#00cc96",
           "#00cc96",
           "#00cc96",
           "#00cc96",
           "#00cc96",
           "#00cc96",
           "#00cc96",
           "#00cc96",
           "red",
           "#00cc96",
           "#00cc96",
           "#00cc96",
           "#00cc96",
           "#00cc96",
           "#00cc96",
           "#00cc96",
           "#00cc96",
           "#00cc96",
           "#00cc96",
           "#00cc96",
           "#00cc96",
           "#00cc96",
           "#00cc96",
           "#00cc96",
           "#00cc96",
           "#00cc96",
           "#00cc96",
           "#00cc96",
           "red",
           "#00cc96",
           "#00cc96",
           "red",
           "#00cc96",
           "#00cc96",
           "#00cc96",
           "#00cc96",
           "red",
           "#00cc96",
           "#00cc96",
           "red",
           "red",
           "#00cc96",
           "red",
           "#00cc96",
           "#00cc96",
           "#00cc96",
           "#00cc96",
           "#00cc96",
           "#00cc96",
           "#00cc96",
           "#00cc96",
           "#00cc96",
           "#00cc96",
           "red",
           "#00cc96",
           "red",
           "red",
           "red",
           "#00cc96",
           "#00cc96",
           "#00cc96",
           "#00cc96",
           "red",
           "#00cc96",
           "#00cc96",
           "#00cc96",
           "#00cc96",
           "red",
           "#00cc96",
           "#00cc96",
           "#00cc96",
           "#00cc96",
           "#00cc96",
           "#00cc96",
           "red",
           "#00cc96",
           "#00cc96",
           "#00cc96",
           "#00cc96",
           "red",
           "#00cc96",
           "#00cc96",
           "#00cc96",
           "#00cc96",
           "#00cc96",
           "#00cc96",
           "#00cc96",
           "#00cc96",
           "#00cc96",
           "red",
           "red",
           "red",
           "red",
           "#00cc96",
           "#00cc96",
           "#00cc96",
           "red",
           "red",
           "#00cc96",
           "red",
           "#00cc96",
           "#00cc96",
           "#00cc96",
           "#00cc96",
           "red",
           "#00cc96",
           "#00cc96",
           "#00cc96",
           "#00cc96",
           "#00cc96",
           "#00cc96",
           "#00cc96",
           "#00cc96",
           "red",
           "#00cc96",
           "red",
           "#00cc96",
           "#00cc96",
           "#00cc96",
           "#00cc96",
           "red",
           "#00cc96",
           "#00cc96",
           "#00cc96",
           "#00cc96",
           "#00cc96",
           "red",
           "#00cc96",
           "#00cc96",
           "#00cc96",
           "red",
           "#00cc96",
           "red",
           "#00cc96",
           "red",
           "#00cc96",
           "#00cc96",
           "#00cc96",
           "red",
           "red",
           "#00cc96",
           "red",
           "red",
           "#00cc96",
           "#00cc96",
           "red",
           "red",
           "red",
           "#00cc96",
           "#00cc96",
           "#00cc96",
           "#00cc96",
           "#00cc96",
           "#00cc96",
           "#00cc96",
           "#00cc96",
           "#00cc96",
           "#00cc96",
           "#00cc96",
           "#00cc96",
           "#00cc96",
           "#00cc96",
           "#00cc96",
           "#00cc96",
           "#00cc96",
           "red",
           "red",
           "red",
           "#00cc96",
           "red",
           "#00cc96",
           "red",
           "#00cc96",
           "#00cc96",
           "#00cc96",
           "#00cc96",
           "#00cc96",
           "#00cc96",
           "#00cc96",
           "#00cc96",
           "#00cc96",
           "red",
           "#00cc96",
           "#00cc96",
           "red",
           "#00cc96",
           "#00cc96",
           "#00cc96",
           "#00cc96",
           "#00cc96",
           "#00cc96",
           "#00cc96",
           "#00cc96",
           "#00cc96",
           "#00cc96",
           "#00cc96",
           "#00cc96",
           "red",
           "#00cc96",
           "#00cc96",
           "#00cc96",
           "#00cc96",
           "red",
           "#00cc96",
           "#00cc96",
           "#00cc96",
           "#00cc96",
           "#00cc96",
           "red",
           "red",
           "#00cc96",
           "#00cc96",
           "red",
           "#00cc96",
           "red",
           "#00cc96",
           "red",
           "#00cc96",
           "red",
           "#00cc96",
           "#00cc96",
           "#00cc96",
           "#00cc96",
           "red",
           "#00cc96",
           "#00cc96",
           "#00cc96",
           "#00cc96",
           "red",
           "#00cc96",
           "#00cc96",
           "#00cc96",
           "red",
           "#00cc96",
           "#00cc96",
           "red",
           "#00cc96",
           "#00cc96",
           "#00cc96",
           "red",
           "#00cc96",
           "red",
           "red",
           "#00cc96",
           "#00cc96",
           "#00cc96",
           "red",
           "red",
           "#00cc96",
           "#00cc96",
           "#00cc96",
           "red",
           "#00cc96",
           "#00cc96",
           "#00cc96",
           "#00cc96",
           "#00cc96",
           "#00cc96",
           "#00cc96",
           "#00cc96",
           "#00cc96",
           "#00cc96",
           "#00cc96",
           "#00cc96",
           "#00cc96",
           "red",
           "red",
           "#00cc96",
           "#00cc96",
           "#00cc96",
           "red",
           "#00cc96",
           "#00cc96",
           "#00cc96",
           "red",
           "#00cc96",
           "#00cc96",
           "#00cc96",
           "#00cc96",
           "#00cc96",
           "#00cc96",
           "#00cc96",
           "#00cc96",
           "#00cc96",
           "red",
           "#00cc96",
           "#00cc96",
           "#00cc96",
           "#00cc96",
           "#00cc96",
           "red",
           "#00cc96",
           "#00cc96",
           "#00cc96",
           "#00cc96",
           "#00cc96",
           "#00cc96",
           "#00cc96",
           "red",
           "#00cc96",
           "#00cc96",
           "#00cc96",
           "#00cc96",
           "#00cc96",
           "#00cc96",
           "#00cc96",
           "#00cc96",
           "#00cc96",
           "#00cc96",
           "#00cc96",
           "#00cc96",
           "#00cc96",
           "red",
           "#00cc96",
           "#00cc96",
           "red",
           "#00cc96",
           "#00cc96",
           "#00cc96",
           "red",
           "#00cc96",
           "#00cc96",
           "#00cc96",
           "#00cc96",
           "#00cc96",
           "#00cc96",
           "#00cc96",
           "#00cc96",
           "#00cc96",
           "#00cc96",
           "#00cc96",
           "#00cc96",
           "#00cc96",
           "#00cc96",
           "#00cc96",
           "#00cc96",
           "#00cc96",
           "#00cc96",
           "red",
           "#00cc96"
          ]
         },
         "name": "",
         "showlegend": true,
         "type": "pie"
        }
       ],
       "layout": {
        "legend": {
         "tracegroupgap": 0
        },
        "margin": {
         "t": 60
        },
        "template": {
         "data": {
          "bar": [
           {
            "error_x": {
             "color": "#2a3f5f"
            },
            "error_y": {
             "color": "#2a3f5f"
            },
            "marker": {
             "line": {
              "color": "#E5ECF6",
              "width": 0.5
             },
             "pattern": {
              "fillmode": "overlay",
              "size": 10,
              "solidity": 0.2
             }
            },
            "type": "bar"
           }
          ],
          "barpolar": [
           {
            "marker": {
             "line": {
              "color": "#E5ECF6",
              "width": 0.5
             },
             "pattern": {
              "fillmode": "overlay",
              "size": 10,
              "solidity": 0.2
             }
            },
            "type": "barpolar"
           }
          ],
          "carpet": [
           {
            "aaxis": {
             "endlinecolor": "#2a3f5f",
             "gridcolor": "white",
             "linecolor": "white",
             "minorgridcolor": "white",
             "startlinecolor": "#2a3f5f"
            },
            "baxis": {
             "endlinecolor": "#2a3f5f",
             "gridcolor": "white",
             "linecolor": "white",
             "minorgridcolor": "white",
             "startlinecolor": "#2a3f5f"
            },
            "type": "carpet"
           }
          ],
          "choropleth": [
           {
            "colorbar": {
             "outlinewidth": 0,
             "ticks": ""
            },
            "type": "choropleth"
           }
          ],
          "contour": [
           {
            "colorbar": {
             "outlinewidth": 0,
             "ticks": ""
            },
            "colorscale": [
             [
              0,
              "#0d0887"
             ],
             [
              0.1111111111111111,
              "#46039f"
             ],
             [
              0.2222222222222222,
              "#7201a8"
             ],
             [
              0.3333333333333333,
              "#9c179e"
             ],
             [
              0.4444444444444444,
              "#bd3786"
             ],
             [
              0.5555555555555556,
              "#d8576b"
             ],
             [
              0.6666666666666666,
              "#ed7953"
             ],
             [
              0.7777777777777778,
              "#fb9f3a"
             ],
             [
              0.8888888888888888,
              "#fdca26"
             ],
             [
              1,
              "#f0f921"
             ]
            ],
            "type": "contour"
           }
          ],
          "contourcarpet": [
           {
            "colorbar": {
             "outlinewidth": 0,
             "ticks": ""
            },
            "type": "contourcarpet"
           }
          ],
          "heatmap": [
           {
            "colorbar": {
             "outlinewidth": 0,
             "ticks": ""
            },
            "colorscale": [
             [
              0,
              "#0d0887"
             ],
             [
              0.1111111111111111,
              "#46039f"
             ],
             [
              0.2222222222222222,
              "#7201a8"
             ],
             [
              0.3333333333333333,
              "#9c179e"
             ],
             [
              0.4444444444444444,
              "#bd3786"
             ],
             [
              0.5555555555555556,
              "#d8576b"
             ],
             [
              0.6666666666666666,
              "#ed7953"
             ],
             [
              0.7777777777777778,
              "#fb9f3a"
             ],
             [
              0.8888888888888888,
              "#fdca26"
             ],
             [
              1,
              "#f0f921"
             ]
            ],
            "type": "heatmap"
           }
          ],
          "heatmapgl": [
           {
            "colorbar": {
             "outlinewidth": 0,
             "ticks": ""
            },
            "colorscale": [
             [
              0,
              "#0d0887"
             ],
             [
              0.1111111111111111,
              "#46039f"
             ],
             [
              0.2222222222222222,
              "#7201a8"
             ],
             [
              0.3333333333333333,
              "#9c179e"
             ],
             [
              0.4444444444444444,
              "#bd3786"
             ],
             [
              0.5555555555555556,
              "#d8576b"
             ],
             [
              0.6666666666666666,
              "#ed7953"
             ],
             [
              0.7777777777777778,
              "#fb9f3a"
             ],
             [
              0.8888888888888888,
              "#fdca26"
             ],
             [
              1,
              "#f0f921"
             ]
            ],
            "type": "heatmapgl"
           }
          ],
          "histogram": [
           {
            "marker": {
             "pattern": {
              "fillmode": "overlay",
              "size": 10,
              "solidity": 0.2
             }
            },
            "type": "histogram"
           }
          ],
          "histogram2d": [
           {
            "colorbar": {
             "outlinewidth": 0,
             "ticks": ""
            },
            "colorscale": [
             [
              0,
              "#0d0887"
             ],
             [
              0.1111111111111111,
              "#46039f"
             ],
             [
              0.2222222222222222,
              "#7201a8"
             ],
             [
              0.3333333333333333,
              "#9c179e"
             ],
             [
              0.4444444444444444,
              "#bd3786"
             ],
             [
              0.5555555555555556,
              "#d8576b"
             ],
             [
              0.6666666666666666,
              "#ed7953"
             ],
             [
              0.7777777777777778,
              "#fb9f3a"
             ],
             [
              0.8888888888888888,
              "#fdca26"
             ],
             [
              1,
              "#f0f921"
             ]
            ],
            "type": "histogram2d"
           }
          ],
          "histogram2dcontour": [
           {
            "colorbar": {
             "outlinewidth": 0,
             "ticks": ""
            },
            "colorscale": [
             [
              0,
              "#0d0887"
             ],
             [
              0.1111111111111111,
              "#46039f"
             ],
             [
              0.2222222222222222,
              "#7201a8"
             ],
             [
              0.3333333333333333,
              "#9c179e"
             ],
             [
              0.4444444444444444,
              "#bd3786"
             ],
             [
              0.5555555555555556,
              "#d8576b"
             ],
             [
              0.6666666666666666,
              "#ed7953"
             ],
             [
              0.7777777777777778,
              "#fb9f3a"
             ],
             [
              0.8888888888888888,
              "#fdca26"
             ],
             [
              1,
              "#f0f921"
             ]
            ],
            "type": "histogram2dcontour"
           }
          ],
          "mesh3d": [
           {
            "colorbar": {
             "outlinewidth": 0,
             "ticks": ""
            },
            "type": "mesh3d"
           }
          ],
          "parcoords": [
           {
            "line": {
             "colorbar": {
              "outlinewidth": 0,
              "ticks": ""
             }
            },
            "type": "parcoords"
           }
          ],
          "pie": [
           {
            "automargin": true,
            "type": "pie"
           }
          ],
          "scatter": [
           {
            "marker": {
             "colorbar": {
              "outlinewidth": 0,
              "ticks": ""
             }
            },
            "type": "scatter"
           }
          ],
          "scatter3d": [
           {
            "line": {
             "colorbar": {
              "outlinewidth": 0,
              "ticks": ""
             }
            },
            "marker": {
             "colorbar": {
              "outlinewidth": 0,
              "ticks": ""
             }
            },
            "type": "scatter3d"
           }
          ],
          "scattercarpet": [
           {
            "marker": {
             "colorbar": {
              "outlinewidth": 0,
              "ticks": ""
             }
            },
            "type": "scattercarpet"
           }
          ],
          "scattergeo": [
           {
            "marker": {
             "colorbar": {
              "outlinewidth": 0,
              "ticks": ""
             }
            },
            "type": "scattergeo"
           }
          ],
          "scattergl": [
           {
            "marker": {
             "colorbar": {
              "outlinewidth": 0,
              "ticks": ""
             }
            },
            "type": "scattergl"
           }
          ],
          "scattermapbox": [
           {
            "marker": {
             "colorbar": {
              "outlinewidth": 0,
              "ticks": ""
             }
            },
            "type": "scattermapbox"
           }
          ],
          "scatterpolar": [
           {
            "marker": {
             "colorbar": {
              "outlinewidth": 0,
              "ticks": ""
             }
            },
            "type": "scatterpolar"
           }
          ],
          "scatterpolargl": [
           {
            "marker": {
             "colorbar": {
              "outlinewidth": 0,
              "ticks": ""
             }
            },
            "type": "scatterpolargl"
           }
          ],
          "scatterternary": [
           {
            "marker": {
             "colorbar": {
              "outlinewidth": 0,
              "ticks": ""
             }
            },
            "type": "scatterternary"
           }
          ],
          "surface": [
           {
            "colorbar": {
             "outlinewidth": 0,
             "ticks": ""
            },
            "colorscale": [
             [
              0,
              "#0d0887"
             ],
             [
              0.1111111111111111,
              "#46039f"
             ],
             [
              0.2222222222222222,
              "#7201a8"
             ],
             [
              0.3333333333333333,
              "#9c179e"
             ],
             [
              0.4444444444444444,
              "#bd3786"
             ],
             [
              0.5555555555555556,
              "#d8576b"
             ],
             [
              0.6666666666666666,
              "#ed7953"
             ],
             [
              0.7777777777777778,
              "#fb9f3a"
             ],
             [
              0.8888888888888888,
              "#fdca26"
             ],
             [
              1,
              "#f0f921"
             ]
            ],
            "type": "surface"
           }
          ],
          "table": [
           {
            "cells": {
             "fill": {
              "color": "#EBF0F8"
             },
             "line": {
              "color": "white"
             }
            },
            "header": {
             "fill": {
              "color": "#C8D4E3"
             },
             "line": {
              "color": "white"
             }
            },
            "type": "table"
           }
          ]
         },
         "layout": {
          "annotationdefaults": {
           "arrowcolor": "#2a3f5f",
           "arrowhead": 0,
           "arrowwidth": 1
          },
          "autotypenumbers": "strict",
          "coloraxis": {
           "colorbar": {
            "outlinewidth": 0,
            "ticks": ""
           }
          },
          "colorscale": {
           "diverging": [
            [
             0,
             "#8e0152"
            ],
            [
             0.1,
             "#c51b7d"
            ],
            [
             0.2,
             "#de77ae"
            ],
            [
             0.3,
             "#f1b6da"
            ],
            [
             0.4,
             "#fde0ef"
            ],
            [
             0.5,
             "#f7f7f7"
            ],
            [
             0.6,
             "#e6f5d0"
            ],
            [
             0.7,
             "#b8e186"
            ],
            [
             0.8,
             "#7fbc41"
            ],
            [
             0.9,
             "#4d9221"
            ],
            [
             1,
             "#276419"
            ]
           ],
           "sequential": [
            [
             0,
             "#0d0887"
            ],
            [
             0.1111111111111111,
             "#46039f"
            ],
            [
             0.2222222222222222,
             "#7201a8"
            ],
            [
             0.3333333333333333,
             "#9c179e"
            ],
            [
             0.4444444444444444,
             "#bd3786"
            ],
            [
             0.5555555555555556,
             "#d8576b"
            ],
            [
             0.6666666666666666,
             "#ed7953"
            ],
            [
             0.7777777777777778,
             "#fb9f3a"
            ],
            [
             0.8888888888888888,
             "#fdca26"
            ],
            [
             1,
             "#f0f921"
            ]
           ],
           "sequentialminus": [
            [
             0,
             "#0d0887"
            ],
            [
             0.1111111111111111,
             "#46039f"
            ],
            [
             0.2222222222222222,
             "#7201a8"
            ],
            [
             0.3333333333333333,
             "#9c179e"
            ],
            [
             0.4444444444444444,
             "#bd3786"
            ],
            [
             0.5555555555555556,
             "#d8576b"
            ],
            [
             0.6666666666666666,
             "#ed7953"
            ],
            [
             0.7777777777777778,
             "#fb9f3a"
            ],
            [
             0.8888888888888888,
             "#fdca26"
            ],
            [
             1,
             "#f0f921"
            ]
           ]
          },
          "colorway": [
           "#636efa",
           "#EF553B",
           "#00cc96",
           "#ab63fa",
           "#FFA15A",
           "#19d3f3",
           "#FF6692",
           "#B6E880",
           "#FF97FF",
           "#FECB52"
          ],
          "font": {
           "color": "#2a3f5f"
          },
          "geo": {
           "bgcolor": "white",
           "lakecolor": "white",
           "landcolor": "#E5ECF6",
           "showlakes": true,
           "showland": true,
           "subunitcolor": "white"
          },
          "hoverlabel": {
           "align": "left"
          },
          "hovermode": "closest",
          "mapbox": {
           "style": "light"
          },
          "paper_bgcolor": "white",
          "plot_bgcolor": "#E5ECF6",
          "polar": {
           "angularaxis": {
            "gridcolor": "white",
            "linecolor": "white",
            "ticks": ""
           },
           "bgcolor": "#E5ECF6",
           "radialaxis": {
            "gridcolor": "white",
            "linecolor": "white",
            "ticks": ""
           }
          },
          "scene": {
           "xaxis": {
            "backgroundcolor": "#E5ECF6",
            "gridcolor": "white",
            "gridwidth": 2,
            "linecolor": "white",
            "showbackground": true,
            "ticks": "",
            "zerolinecolor": "white"
           },
           "yaxis": {
            "backgroundcolor": "#E5ECF6",
            "gridcolor": "white",
            "gridwidth": 2,
            "linecolor": "white",
            "showbackground": true,
            "ticks": "",
            "zerolinecolor": "white"
           },
           "zaxis": {
            "backgroundcolor": "#E5ECF6",
            "gridcolor": "white",
            "gridwidth": 2,
            "linecolor": "white",
            "showbackground": true,
            "ticks": "",
            "zerolinecolor": "white"
           }
          },
          "shapedefaults": {
           "line": {
            "color": "#2a3f5f"
           }
          },
          "ternary": {
           "aaxis": {
            "gridcolor": "white",
            "linecolor": "white",
            "ticks": ""
           },
           "baxis": {
            "gridcolor": "white",
            "linecolor": "white",
            "ticks": ""
           },
           "bgcolor": "#E5ECF6",
           "caxis": {
            "gridcolor": "white",
            "linecolor": "white",
            "ticks": ""
           }
          },
          "title": {
           "x": 0.05
          },
          "xaxis": {
           "automargin": true,
           "gridcolor": "white",
           "linecolor": "white",
           "ticks": "",
           "title": {
            "standoff": 15
           },
           "zerolinecolor": "white",
           "zerolinewidth": 2
          },
          "yaxis": {
           "automargin": true,
           "gridcolor": "white",
           "linecolor": "white",
           "ticks": "",
           "title": {
            "standoff": 15
           },
           "zerolinecolor": "white",
           "zerolinewidth": 2
          }
         }
        }
       }
      },
      "text/html": [
       "<div>                            <div id=\"53792b8b-83f3-4de2-a5c7-0af06eb2cdd4\" class=\"plotly-graph-div\" style=\"height:525px; width:100%;\"></div>            <script type=\"text/javascript\">                require([\"plotly\"], function(Plotly) {                    window.PLOTLYENV=window.PLOTLYENV || {};                                    if (document.getElementById(\"53792b8b-83f3-4de2-a5c7-0af06eb2cdd4\")) {                    Plotly.newPlot(                        \"53792b8b-83f3-4de2-a5c7-0af06eb2cdd4\",                        [{\"customdata\":[[\"No\"],[\"Yes\"],[\"No\"],[\"No\"],[\"No\"],[\"No\"],[\"No\"],[\"Yes\"],[\"No\"],[\"Yes\"],[\"No\"],[\"No\"],[\"No\"],[\"Yes\"],[\"No\"],[\"No\"],[\"No\"],[\"Yes\"],[\"Yes\"],[\"No\"],[\"Yes\"],[\"No\"],[\"Yes\"],[\"Yes\"],[\"Yes\"],[\"No\"],[\"No\"],[\"No\"],[\"Yes\"],[\"No\"],[\"Yes\"],[\"Yes\"],[\"Yes\"],[\"No\"],[\"Yes\"],[\"No\"],[\"Yes\"],[\"No\"],[\"No\"],[\"No\"],[\"Yes\"],[\"No\"],[\"No\"],[\"No\"],[\"No\"],[\"No\"],[\"No\"],[\"No\"],[\"Yes\"],[\"No\"],[\"No\"],[\"No\"],[\"Yes\"],[\"Yes\"],[\"Yes\"],[\"No\"],[\"No\"],[\"Yes\"],[\"No\"],[\"No\"],[\"No\"],[\"No\"],[\"Yes\"],[\"Yes\"],[\"Yes\"],[\"Yes\"],[\"Yes\"],[\"No\"],[\"No\"],[\"Yes\"],[\"No\"],[\"No\"],[\"No\"],[\"Yes\"],[\"No\"],[\"Yes\"],[\"Yes\"],[\"Yes\"],[\"Yes\"],[\"No\"],[\"No\"],[\"No\"],[\"Yes\"],[\"Yes\"],[\"No\"],[\"No\"],[\"No\"],[\"No\"],[\"No\"],[\"No\"],[\"No\"],[\"No\"],[\"No\"],[\"No\"],[\"No\"],[\"Yes\"],[\"No\"],[\"No\"],[\"No\"],[\"No\"],[\"No\"],[\"No\"],[\"No\"],[\"No\"],[\"No\"],[\"No\"],[\"No\"],[\"Yes\"],[\"Yes\"],[\"No\"],[\"No\"],[\"No\"],[\"Yes\"],[\"No\"],[\"No\"],[\"No\"],[\"No\"],[\"No\"],[\"Yes\"],[\"No\"],[\"No\"],[\"No\"],[\"No\"],[\"No\"],[\"No\"],[\"No\"],[\"No\"],[\"No\"],[\"Yes\"],[\"Yes\"],[\"No\"],[\"No\"],[\"No\"],[\"No\"],[\"No\"],[\"Yes\"],[\"Yes\"],[\"No\"],[\"Yes\"],[\"Yes\"],[\"Yes\"],[\"No\"],[\"No\"],[\"No\"],[\"No\"],[\"No\"],[\"No\"],[\"No\"],[\"Yes\"],[\"No\"],[\"Yes\"],[\"No\"],[\"Yes\"],[\"Yes\"],[\"No\"],[\"No\"],[\"No\"],[\"No\"],[\"No\"],[\"No\"],[\"No\"],[\"Yes\"],[\"Yes\"],[\"No\"],[\"No\"],[\"No\"],[\"Yes\"],[\"No\"],[\"Yes\"],[\"No\"],[\"No\"],[\"No\"],[\"Yes\"],[\"No\"],[\"Yes\"],[\"No\"],[\"No\"],[\"Yes\"],[\"No\"],[\"Yes\"],[\"Yes\"],[\"Yes\"],[\"No\"],[\"Yes\"],[\"No\"],[\"No\"],[\"Yes\"],[\"No\"],[\"No\"],[\"No\"],[\"No\"],[\"Yes\"],[\"Yes\"],[\"No\"],[\"No\"],[\"Yes\"],[\"No\"],[\"No\"],[\"No\"],[\"Yes\"],[\"No\"],[\"No\"],[\"Yes\"],[\"No\"],[\"No\"],[\"No\"],[\"No\"],[\"No\"],[\"No\"],[\"Yes\"],[\"Yes\"],[\"Yes\"],[\"No\"],[\"No\"],[\"No\"],[\"No\"],[\"Yes\"],[\"No\"],[\"Yes\"],[\"No\"],[\"Yes\"],[\"No\"],[\"No\"],[\"No\"],[\"No\"],[\"Yes\"],[\"Yes\"],[\"No\"],[\"No\"],[\"No\"],[\"No\"],[\"No\"],[\"No\"],[\"No\"],[\"No\"],[\"No\"],[\"Yes\"],[\"No\"],[\"No\"],[\"No\"],[\"No\"],[\"Yes\"],[\"No\"],[\"No\"],[\"No\"],[\"Yes\"],[\"No\"],[\"No\"],[\"No\"],[\"No\"],[\"Yes\"],[\"Yes\"],[\"No\"],[\"No\"],[\"Yes\"],[\"No\"],[\"Yes\"],[\"Yes\"],[\"Yes\"],[\"Yes\"],[\"No\"],[\"No\"],[\"Yes\"],[\"No\"],[\"No\"],[\"No\"],[\"No\"],[\"No\"],[\"Yes\"],[\"No\"],[\"No\"],[\"No\"],[\"No\"],[\"No\"],[\"No\"],[\"No\"],[\"No\"],[\"No\"],[\"No\"],[\"No\"],[\"Yes\"],[\"No\"],[\"No\"],[\"No\"],[\"Yes\"],[\"No\"],[\"Yes\"],[\"No\"],[\"No\"],[\"No\"],[\"No\"],[\"Yes\"],[\"No\"],[\"Yes\"],[\"No\"],[\"No\"],[\"No\"],[\"No\"],[\"Yes\"],[\"Yes\"],[\"Yes\"],[\"No\"],[\"No\"],[\"No\"],[\"No\"],[\"Yes\"],[\"No\"],[\"Yes\"],[\"Yes\"],[\"No\"],[\"No\"],[\"No\"],[\"No\"],[\"No\"],[\"Yes\"],[\"No\"],[\"No\"],[\"No\"],[\"No\"],[\"Yes\"],[\"No\"],[\"No\"],[\"No\"],[\"No\"],[\"No\"],[\"Yes\"],[\"No\"],[\"No\"],[\"Yes\"],[\"No\"],[\"No\"],[\"No\"],[\"No\"],[\"No\"],[\"No\"],[\"No\"],[\"No\"],[\"No\"],[\"Yes\"],[\"No\"],[\"Yes\"],[\"Yes\"],[\"No\"],[\"No\"],[\"No\"],[\"No\"],[\"Yes\"],[\"No\"],[\"No\"],[\"No\"],[\"No\"],[\"Yes\"],[\"No\"],[\"Yes\"],[\"No\"],[\"No\"],[\"No\"],[\"Yes\"],[\"Yes\"],[\"No\"],[\"Yes\"],[\"No\"],[\"No\"],[\"No\"],[\"No\"],[\"Yes\"],[\"Yes\"],[\"Yes\"],[\"No\"],[\"Yes\"],[\"No\"],[\"No\"],[\"No\"],[\"Yes\"],[\"No\"],[\"No\"],[\"No\"],[\"No\"],[\"Yes\"],[\"No\"],[\"No\"],[\"No\"],[\"No\"],[\"No\"],[\"Yes\"],[\"No\"],[\"No\"],[\"Yes\"],[\"No\"],[\"No\"],[\"No\"],[\"No\"],[\"No\"],[\"No\"],[\"No\"],[\"No\"],[\"Yes\"],[\"No\"],[\"No\"],[\"Yes\"],[\"Yes\"],[\"Yes\"],[\"No\"],[\"No\"],[\"Yes\"],[\"No\"],[\"No\"],[\"No\"],[\"Yes\"],[\"Yes\"],[\"Yes\"],[\"No\"],[\"Yes\"],[\"No\"],[\"Yes\"],[\"No\"],[\"Yes\"],[\"Yes\"],[\"No\"],[\"No\"],[\"No\"],[\"Yes\"],[\"No\"],[\"Yes\"],[\"No\"],[\"No\"],[\"Yes\"],[\"No\"],[\"No\"],[\"No\"],[\"No\"],[\"Yes\"],[\"No\"],[\"No\"],[\"No\"],[\"No\"],[\"No\"],[\"No\"],[\"Yes\"],[\"No\"],[\"No\"],[\"No\"],[\"No\"],[\"No\"],[\"No\"],[\"No\"],[\"No\"],[\"Yes\"],[\"Yes\"],[\"Yes\"],[\"Yes\"],[\"No\"],[\"Yes\"],[\"No\"],[\"No\"],[\"No\"],[\"No\"],[\"Yes\"],[\"No\"],[\"Yes\"],[\"No\"],[\"No\"],[\"No\"],[\"No\"],[\"Yes\"],[\"No\"],[\"Yes\"],[\"No\"],[\"No\"],[\"Yes\"],[\"No\"],[\"Yes\"],[\"No\"],[\"No\"],[\"No\"],[\"No\"],[\"No\"],[\"Yes\"],[\"No\"],[\"Yes\"],[\"No\"],[\"No\"],[\"No\"],[\"No\"],[\"No\"],[\"No\"],[\"Yes\"],[\"Yes\"],[\"No\"],[\"Yes\"],[\"No\"],[\"No\"],[\"No\"],[\"No\"],[\"Yes\"],[\"No\"],[\"No\"],[\"No\"],[\"No\"],[\"Yes\"],[\"No\"],[\"No\"],[\"No\"],[\"Yes\"],[\"No\"],[\"No\"],[\"No\"],[\"Yes\"],[\"No\"],[\"No\"],[\"Yes\"],[\"No\"],[\"No\"],[\"Yes\"],[\"Yes\"],[\"No\"],[\"No\"],[\"Yes\"],[\"Yes\"],[\"Yes\"],[\"No\"],[\"No\"],[\"No\"],[\"No\"],[\"Yes\"],[\"No\"],[\"No\"],[\"No\"],[\"No\"],[\"No\"],[\"No\"],[\"No\"],[\"Yes\"],[\"Yes\"],[\"No\"],[\"No\"],[\"No\"],[\"No\"],[\"Yes\"],[\"No\"],[\"No\"],[\"Yes\"],[\"No\"],[\"No\"],[\"No\"],[\"No\"],[\"Yes\"],[\"No\"],[\"Yes\"],[\"No\"],[\"Yes\"],[\"No\"],[\"No\"],[\"Yes\"],[\"Yes\"],[\"No\"],[\"No\"],[\"No\"],[\"No\"],[\"No\"],[\"No\"],[\"No\"],[\"No\"],[\"No\"],[\"Yes\"],[\"No\"],[\"No\"],[\"Yes\"],[\"Yes\"],[\"Yes\"],[\"No\"],[\"Yes\"],[\"No\"],[\"Yes\"],[\"Yes\"],[\"No\"],[\"Yes\"],[\"No\"],[\"No\"],[\"No\"],[\"No\"],[\"Yes\"],[\"No\"],[\"Yes\"],[\"Yes\"],[\"Yes\"],[\"No\"],[\"No\"],[\"No\"],[\"Yes\"],[\"No\"],[\"Yes\"],[\"No\"],[\"No\"],[\"No\"],[\"No\"],[\"Yes\"],[\"Yes\"],[\"No\"],[\"No\"],[\"Yes\"],[\"No\"],[\"No\"],[\"No\"],[\"No\"],[\"Yes\"],[\"No\"],[\"No\"],[\"No\"],[\"No\"],[\"No\"],[\"No\"],[\"No\"],[\"Yes\"],[\"No\"],[\"No\"],[\"No\"],[\"No\"],[\"Yes\"],[\"No\"],[\"No\"],[\"Yes\"],[\"No\"],[\"No\"],[\"No\"],[\"No\"],[\"No\"],[\"Yes\"],[\"No\"],[\"No\"],[\"No\"],[\"No\"],[\"No\"],[\"No\"],[\"No\"],[\"No\"],[\"No\"],[\"No\"],[\"No\"],[\"Yes\"],[\"No\"],[\"No\"],[\"No\"],[\"No\"],[\"No\"],[\"No\"],[\"No\"],[\"No\"],[\"No\"],[\"Yes\"],[\"No\"],[\"No\"],[\"No\"],[\"No\"],[\"No\"],[\"No\"],[\"No\"],[\"No\"],[\"No\"],[\"No\"],[\"No\"],[\"No\"],[\"No\"],[\"No\"],[\"No\"],[\"No\"],[\"No\"],[\"No\"],[\"No\"],[\"Yes\"],[\"No\"],[\"No\"],[\"Yes\"],[\"No\"],[\"No\"],[\"No\"],[\"No\"],[\"Yes\"],[\"No\"],[\"No\"],[\"Yes\"],[\"Yes\"],[\"No\"],[\"Yes\"],[\"No\"],[\"No\"],[\"No\"],[\"No\"],[\"No\"],[\"No\"],[\"No\"],[\"No\"],[\"No\"],[\"No\"],[\"Yes\"],[\"No\"],[\"Yes\"],[\"Yes\"],[\"Yes\"],[\"No\"],[\"No\"],[\"No\"],[\"No\"],[\"Yes\"],[\"No\"],[\"No\"],[\"No\"],[\"No\"],[\"Yes\"],[\"No\"],[\"No\"],[\"No\"],[\"No\"],[\"No\"],[\"No\"],[\"Yes\"],[\"No\"],[\"No\"],[\"No\"],[\"No\"],[\"Yes\"],[\"No\"],[\"No\"],[\"No\"],[\"No\"],[\"No\"],[\"No\"],[\"No\"],[\"No\"],[\"No\"],[\"Yes\"],[\"Yes\"],[\"Yes\"],[\"Yes\"],[\"No\"],[\"No\"],[\"No\"],[\"Yes\"],[\"Yes\"],[\"No\"],[\"Yes\"],[\"No\"],[\"No\"],[\"No\"],[\"No\"],[\"Yes\"],[\"No\"],[\"No\"],[\"No\"],[\"No\"],[\"No\"],[\"No\"],[\"No\"],[\"No\"],[\"Yes\"],[\"No\"],[\"Yes\"],[\"No\"],[\"No\"],[\"No\"],[\"No\"],[\"Yes\"],[\"No\"],[\"No\"],[\"No\"],[\"No\"],[\"No\"],[\"Yes\"],[\"No\"],[\"No\"],[\"No\"],[\"Yes\"],[\"No\"],[\"Yes\"],[\"No\"],[\"Yes\"],[\"No\"],[\"No\"],[\"No\"],[\"Yes\"],[\"Yes\"],[\"No\"],[\"Yes\"],[\"Yes\"],[\"No\"],[\"No\"],[\"Yes\"],[\"Yes\"],[\"Yes\"],[\"No\"],[\"No\"],[\"No\"],[\"No\"],[\"No\"],[\"No\"],[\"No\"],[\"No\"],[\"No\"],[\"No\"],[\"No\"],[\"No\"],[\"No\"],[\"No\"],[\"No\"],[\"No\"],[\"No\"],[\"Yes\"],[\"Yes\"],[\"Yes\"],[\"No\"],[\"Yes\"],[\"No\"],[\"Yes\"],[\"No\"],[\"No\"],[\"No\"],[\"No\"],[\"No\"],[\"No\"],[\"No\"],[\"No\"],[\"No\"],[\"Yes\"],[\"No\"],[\"No\"],[\"Yes\"],[\"No\"],[\"No\"],[\"No\"],[\"No\"],[\"No\"],[\"No\"],[\"No\"],[\"No\"],[\"No\"],[\"No\"],[\"No\"],[\"No\"],[\"Yes\"],[\"No\"],[\"No\"],[\"No\"],[\"No\"],[\"Yes\"],[\"No\"],[\"No\"],[\"No\"],[\"No\"],[\"No\"],[\"Yes\"],[\"Yes\"],[\"No\"],[\"No\"],[\"Yes\"],[\"No\"],[\"Yes\"],[\"No\"],[\"Yes\"],[\"No\"],[\"Yes\"],[\"No\"],[\"No\"],[\"No\"],[\"No\"],[\"Yes\"],[\"No\"],[\"No\"],[\"No\"],[\"No\"],[\"Yes\"],[\"No\"],[\"No\"],[\"No\"],[\"Yes\"],[\"No\"],[\"No\"],[\"Yes\"],[\"No\"],[\"No\"],[\"No\"],[\"Yes\"],[\"No\"],[\"Yes\"],[\"Yes\"],[\"No\"],[\"No\"],[\"No\"],[\"Yes\"],[\"Yes\"],[\"No\"],[\"No\"],[\"No\"],[\"Yes\"],[\"No\"],[\"No\"],[\"No\"],[\"No\"],[\"No\"],[\"No\"],[\"No\"],[\"No\"],[\"No\"],[\"No\"],[\"No\"],[\"No\"],[\"No\"],[\"Yes\"],[\"Yes\"],[\"No\"],[\"No\"],[\"No\"],[\"Yes\"],[\"No\"],[\"No\"],[\"No\"],[\"Yes\"],[\"No\"],[\"No\"],[\"No\"],[\"No\"],[\"No\"],[\"No\"],[\"No\"],[\"No\"],[\"No\"],[\"Yes\"],[\"No\"],[\"No\"],[\"No\"],[\"No\"],[\"No\"],[\"Yes\"],[\"No\"],[\"No\"],[\"No\"],[\"No\"],[\"No\"],[\"No\"],[\"No\"],[\"Yes\"],[\"No\"],[\"No\"],[\"No\"],[\"No\"],[\"No\"],[\"No\"],[\"No\"],[\"No\"],[\"No\"],[\"No\"],[\"No\"],[\"No\"],[\"No\"],[\"Yes\"],[\"No\"],[\"No\"],[\"Yes\"],[\"No\"],[\"No\"],[\"No\"],[\"Yes\"],[\"No\"],[\"No\"],[\"No\"],[\"No\"],[\"No\"],[\"No\"],[\"No\"],[\"No\"],[\"No\"],[\"No\"],[\"No\"],[\"No\"],[\"No\"],[\"No\"],[\"No\"],[\"No\"],[\"No\"],[\"No\"],[\"Yes\"],[\"No\"]],\"domain\":{\"x\":[0.0,1.0],\"y\":[0.0,1.0]},\"hovertemplate\":\"Loan_Status=%{customdata[0]}<extra></extra>\",\"labels\":[\"No\",\"Yes\",\"No\",\"No\",\"No\",\"No\",\"No\",\"Yes\",\"No\",\"Yes\",\"No\",\"No\",\"No\",\"Yes\",\"No\",\"No\",\"No\",\"Yes\",\"Yes\",\"No\",\"Yes\",\"No\",\"Yes\",\"Yes\",\"Yes\",\"No\",\"No\",\"No\",\"Yes\",\"No\",\"Yes\",\"Yes\",\"Yes\",\"No\",\"Yes\",\"No\",\"Yes\",\"No\",\"No\",\"No\",\"Yes\",\"No\",\"No\",\"No\",\"No\",\"No\",\"No\",\"No\",\"Yes\",\"No\",\"No\",\"No\",\"Yes\",\"Yes\",\"Yes\",\"No\",\"No\",\"Yes\",\"No\",\"No\",\"No\",\"No\",\"Yes\",\"Yes\",\"Yes\",\"Yes\",\"Yes\",\"No\",\"No\",\"Yes\",\"No\",\"No\",\"No\",\"Yes\",\"No\",\"Yes\",\"Yes\",\"Yes\",\"Yes\",\"No\",\"No\",\"No\",\"Yes\",\"Yes\",\"No\",\"No\",\"No\",\"No\",\"No\",\"No\",\"No\",\"No\",\"No\",\"No\",\"No\",\"Yes\",\"No\",\"No\",\"No\",\"No\",\"No\",\"No\",\"No\",\"No\",\"No\",\"No\",\"No\",\"Yes\",\"Yes\",\"No\",\"No\",\"No\",\"Yes\",\"No\",\"No\",\"No\",\"No\",\"No\",\"Yes\",\"No\",\"No\",\"No\",\"No\",\"No\",\"No\",\"No\",\"No\",\"No\",\"Yes\",\"Yes\",\"No\",\"No\",\"No\",\"No\",\"No\",\"Yes\",\"Yes\",\"No\",\"Yes\",\"Yes\",\"Yes\",\"No\",\"No\",\"No\",\"No\",\"No\",\"No\",\"No\",\"Yes\",\"No\",\"Yes\",\"No\",\"Yes\",\"Yes\",\"No\",\"No\",\"No\",\"No\",\"No\",\"No\",\"No\",\"Yes\",\"Yes\",\"No\",\"No\",\"No\",\"Yes\",\"No\",\"Yes\",\"No\",\"No\",\"No\",\"Yes\",\"No\",\"Yes\",\"No\",\"No\",\"Yes\",\"No\",\"Yes\",\"Yes\",\"Yes\",\"No\",\"Yes\",\"No\",\"No\",\"Yes\",\"No\",\"No\",\"No\",\"No\",\"Yes\",\"Yes\",\"No\",\"No\",\"Yes\",\"No\",\"No\",\"No\",\"Yes\",\"No\",\"No\",\"Yes\",\"No\",\"No\",\"No\",\"No\",\"No\",\"No\",\"Yes\",\"Yes\",\"Yes\",\"No\",\"No\",\"No\",\"No\",\"Yes\",\"No\",\"Yes\",\"No\",\"Yes\",\"No\",\"No\",\"No\",\"No\",\"Yes\",\"Yes\",\"No\",\"No\",\"No\",\"No\",\"No\",\"No\",\"No\",\"No\",\"No\",\"Yes\",\"No\",\"No\",\"No\",\"No\",\"Yes\",\"No\",\"No\",\"No\",\"Yes\",\"No\",\"No\",\"No\",\"No\",\"Yes\",\"Yes\",\"No\",\"No\",\"Yes\",\"No\",\"Yes\",\"Yes\",\"Yes\",\"Yes\",\"No\",\"No\",\"Yes\",\"No\",\"No\",\"No\",\"No\",\"No\",\"Yes\",\"No\",\"No\",\"No\",\"No\",\"No\",\"No\",\"No\",\"No\",\"No\",\"No\",\"No\",\"Yes\",\"No\",\"No\",\"No\",\"Yes\",\"No\",\"Yes\",\"No\",\"No\",\"No\",\"No\",\"Yes\",\"No\",\"Yes\",\"No\",\"No\",\"No\",\"No\",\"Yes\",\"Yes\",\"Yes\",\"No\",\"No\",\"No\",\"No\",\"Yes\",\"No\",\"Yes\",\"Yes\",\"No\",\"No\",\"No\",\"No\",\"No\",\"Yes\",\"No\",\"No\",\"No\",\"No\",\"Yes\",\"No\",\"No\",\"No\",\"No\",\"No\",\"Yes\",\"No\",\"No\",\"Yes\",\"No\",\"No\",\"No\",\"No\",\"No\",\"No\",\"No\",\"No\",\"No\",\"Yes\",\"No\",\"Yes\",\"Yes\",\"No\",\"No\",\"No\",\"No\",\"Yes\",\"No\",\"No\",\"No\",\"No\",\"Yes\",\"No\",\"Yes\",\"No\",\"No\",\"No\",\"Yes\",\"Yes\",\"No\",\"Yes\",\"No\",\"No\",\"No\",\"No\",\"Yes\",\"Yes\",\"Yes\",\"No\",\"Yes\",\"No\",\"No\",\"No\",\"Yes\",\"No\",\"No\",\"No\",\"No\",\"Yes\",\"No\",\"No\",\"No\",\"No\",\"No\",\"Yes\",\"No\",\"No\",\"Yes\",\"No\",\"No\",\"No\",\"No\",\"No\",\"No\",\"No\",\"No\",\"Yes\",\"No\",\"No\",\"Yes\",\"Yes\",\"Yes\",\"No\",\"No\",\"Yes\",\"No\",\"No\",\"No\",\"Yes\",\"Yes\",\"Yes\",\"No\",\"Yes\",\"No\",\"Yes\",\"No\",\"Yes\",\"Yes\",\"No\",\"No\",\"No\",\"Yes\",\"No\",\"Yes\",\"No\",\"No\",\"Yes\",\"No\",\"No\",\"No\",\"No\",\"Yes\",\"No\",\"No\",\"No\",\"No\",\"No\",\"No\",\"Yes\",\"No\",\"No\",\"No\",\"No\",\"No\",\"No\",\"No\",\"No\",\"Yes\",\"Yes\",\"Yes\",\"Yes\",\"No\",\"Yes\",\"No\",\"No\",\"No\",\"No\",\"Yes\",\"No\",\"Yes\",\"No\",\"No\",\"No\",\"No\",\"Yes\",\"No\",\"Yes\",\"No\",\"No\",\"Yes\",\"No\",\"Yes\",\"No\",\"No\",\"No\",\"No\",\"No\",\"Yes\",\"No\",\"Yes\",\"No\",\"No\",\"No\",\"No\",\"No\",\"No\",\"Yes\",\"Yes\",\"No\",\"Yes\",\"No\",\"No\",\"No\",\"No\",\"Yes\",\"No\",\"No\",\"No\",\"No\",\"Yes\",\"No\",\"No\",\"No\",\"Yes\",\"No\",\"No\",\"No\",\"Yes\",\"No\",\"No\",\"Yes\",\"No\",\"No\",\"Yes\",\"Yes\",\"No\",\"No\",\"Yes\",\"Yes\",\"Yes\",\"No\",\"No\",\"No\",\"No\",\"Yes\",\"No\",\"No\",\"No\",\"No\",\"No\",\"No\",\"No\",\"Yes\",\"Yes\",\"No\",\"No\",\"No\",\"No\",\"Yes\",\"No\",\"No\",\"Yes\",\"No\",\"No\",\"No\",\"No\",\"Yes\",\"No\",\"Yes\",\"No\",\"Yes\",\"No\",\"No\",\"Yes\",\"Yes\",\"No\",\"No\",\"No\",\"No\",\"No\",\"No\",\"No\",\"No\",\"No\",\"Yes\",\"No\",\"No\",\"Yes\",\"Yes\",\"Yes\",\"No\",\"Yes\",\"No\",\"Yes\",\"Yes\",\"No\",\"Yes\",\"No\",\"No\",\"No\",\"No\",\"Yes\",\"No\",\"Yes\",\"Yes\",\"Yes\",\"No\",\"No\",\"No\",\"Yes\",\"No\",\"Yes\",\"No\",\"No\",\"No\",\"No\",\"Yes\",\"Yes\",\"No\",\"No\",\"Yes\",\"No\",\"No\",\"No\",\"No\",\"Yes\",\"No\",\"No\",\"No\",\"No\",\"No\",\"No\",\"No\",\"Yes\",\"No\",\"No\",\"No\",\"No\",\"Yes\",\"No\",\"No\",\"Yes\",\"No\",\"No\",\"No\",\"No\",\"No\",\"Yes\",\"No\",\"No\",\"No\",\"No\",\"No\",\"No\",\"No\",\"No\",\"No\",\"No\",\"No\",\"Yes\",\"No\",\"No\",\"No\",\"No\",\"No\",\"No\",\"No\",\"No\",\"No\",\"Yes\",\"No\",\"No\",\"No\",\"No\",\"No\",\"No\",\"No\",\"No\",\"No\",\"No\",\"No\",\"No\",\"No\",\"No\",\"No\",\"No\",\"No\",\"No\",\"No\",\"Yes\",\"No\",\"No\",\"Yes\",\"No\",\"No\",\"No\",\"No\",\"Yes\",\"No\",\"No\",\"Yes\",\"Yes\",\"No\",\"Yes\",\"No\",\"No\",\"No\",\"No\",\"No\",\"No\",\"No\",\"No\",\"No\",\"No\",\"Yes\",\"No\",\"Yes\",\"Yes\",\"Yes\",\"No\",\"No\",\"No\",\"No\",\"Yes\",\"No\",\"No\",\"No\",\"No\",\"Yes\",\"No\",\"No\",\"No\",\"No\",\"No\",\"No\",\"Yes\",\"No\",\"No\",\"No\",\"No\",\"Yes\",\"No\",\"No\",\"No\",\"No\",\"No\",\"No\",\"No\",\"No\",\"No\",\"Yes\",\"Yes\",\"Yes\",\"Yes\",\"No\",\"No\",\"No\",\"Yes\",\"Yes\",\"No\",\"Yes\",\"No\",\"No\",\"No\",\"No\",\"Yes\",\"No\",\"No\",\"No\",\"No\",\"No\",\"No\",\"No\",\"No\",\"Yes\",\"No\",\"Yes\",\"No\",\"No\",\"No\",\"No\",\"Yes\",\"No\",\"No\",\"No\",\"No\",\"No\",\"Yes\",\"No\",\"No\",\"No\",\"Yes\",\"No\",\"Yes\",\"No\",\"Yes\",\"No\",\"No\",\"No\",\"Yes\",\"Yes\",\"No\",\"Yes\",\"Yes\",\"No\",\"No\",\"Yes\",\"Yes\",\"Yes\",\"No\",\"No\",\"No\",\"No\",\"No\",\"No\",\"No\",\"No\",\"No\",\"No\",\"No\",\"No\",\"No\",\"No\",\"No\",\"No\",\"No\",\"Yes\",\"Yes\",\"Yes\",\"No\",\"Yes\",\"No\",\"Yes\",\"No\",\"No\",\"No\",\"No\",\"No\",\"No\",\"No\",\"No\",\"No\",\"Yes\",\"No\",\"No\",\"Yes\",\"No\",\"No\",\"No\",\"No\",\"No\",\"No\",\"No\",\"No\",\"No\",\"No\",\"No\",\"No\",\"Yes\",\"No\",\"No\",\"No\",\"No\",\"Yes\",\"No\",\"No\",\"No\",\"No\",\"No\",\"Yes\",\"Yes\",\"No\",\"No\",\"Yes\",\"No\",\"Yes\",\"No\",\"Yes\",\"No\",\"Yes\",\"No\",\"No\",\"No\",\"No\",\"Yes\",\"No\",\"No\",\"No\",\"No\",\"Yes\",\"No\",\"No\",\"No\",\"Yes\",\"No\",\"No\",\"Yes\",\"No\",\"No\",\"No\",\"Yes\",\"No\",\"Yes\",\"Yes\",\"No\",\"No\",\"No\",\"Yes\",\"Yes\",\"No\",\"No\",\"No\",\"Yes\",\"No\",\"No\",\"No\",\"No\",\"No\",\"No\",\"No\",\"No\",\"No\",\"No\",\"No\",\"No\",\"No\",\"Yes\",\"Yes\",\"No\",\"No\",\"No\",\"Yes\",\"No\",\"No\",\"No\",\"Yes\",\"No\",\"No\",\"No\",\"No\",\"No\",\"No\",\"No\",\"No\",\"No\",\"Yes\",\"No\",\"No\",\"No\",\"No\",\"No\",\"Yes\",\"No\",\"No\",\"No\",\"No\",\"No\",\"No\",\"No\",\"Yes\",\"No\",\"No\",\"No\",\"No\",\"No\",\"No\",\"No\",\"No\",\"No\",\"No\",\"No\",\"No\",\"No\",\"Yes\",\"No\",\"No\",\"Yes\",\"No\",\"No\",\"No\",\"Yes\",\"No\",\"No\",\"No\",\"No\",\"No\",\"No\",\"No\",\"No\",\"No\",\"No\",\"No\",\"No\",\"No\",\"No\",\"No\",\"No\",\"No\",\"No\",\"Yes\",\"No\"],\"legendgroup\":\"\",\"marker\":{\"colors\":[\"#00cc96\",\"red\",\"#00cc96\",\"#00cc96\",\"#00cc96\",\"#00cc96\",\"#00cc96\",\"red\",\"#00cc96\",\"red\",\"#00cc96\",\"#00cc96\",\"#00cc96\",\"red\",\"#00cc96\",\"#00cc96\",\"#00cc96\",\"red\",\"red\",\"#00cc96\",\"red\",\"#00cc96\",\"red\",\"red\",\"red\",\"#00cc96\",\"#00cc96\",\"#00cc96\",\"red\",\"#00cc96\",\"red\",\"red\",\"red\",\"#00cc96\",\"red\",\"#00cc96\",\"red\",\"#00cc96\",\"#00cc96\",\"#00cc96\",\"red\",\"#00cc96\",\"#00cc96\",\"#00cc96\",\"#00cc96\",\"#00cc96\",\"#00cc96\",\"#00cc96\",\"red\",\"#00cc96\",\"#00cc96\",\"#00cc96\",\"red\",\"red\",\"red\",\"#00cc96\",\"#00cc96\",\"red\",\"#00cc96\",\"#00cc96\",\"#00cc96\",\"#00cc96\",\"red\",\"red\",\"red\",\"red\",\"red\",\"#00cc96\",\"#00cc96\",\"red\",\"#00cc96\",\"#00cc96\",\"#00cc96\",\"red\",\"#00cc96\",\"red\",\"red\",\"red\",\"red\",\"#00cc96\",\"#00cc96\",\"#00cc96\",\"red\",\"red\",\"#00cc96\",\"#00cc96\",\"#00cc96\",\"#00cc96\",\"#00cc96\",\"#00cc96\",\"#00cc96\",\"#00cc96\",\"#00cc96\",\"#00cc96\",\"#00cc96\",\"red\",\"#00cc96\",\"#00cc96\",\"#00cc96\",\"#00cc96\",\"#00cc96\",\"#00cc96\",\"#00cc96\",\"#00cc96\",\"#00cc96\",\"#00cc96\",\"#00cc96\",\"red\",\"red\",\"#00cc96\",\"#00cc96\",\"#00cc96\",\"red\",\"#00cc96\",\"#00cc96\",\"#00cc96\",\"#00cc96\",\"#00cc96\",\"red\",\"#00cc96\",\"#00cc96\",\"#00cc96\",\"#00cc96\",\"#00cc96\",\"#00cc96\",\"#00cc96\",\"#00cc96\",\"#00cc96\",\"red\",\"red\",\"#00cc96\",\"#00cc96\",\"#00cc96\",\"#00cc96\",\"#00cc96\",\"red\",\"red\",\"#00cc96\",\"red\",\"red\",\"red\",\"#00cc96\",\"#00cc96\",\"#00cc96\",\"#00cc96\",\"#00cc96\",\"#00cc96\",\"#00cc96\",\"red\",\"#00cc96\",\"red\",\"#00cc96\",\"red\",\"red\",\"#00cc96\",\"#00cc96\",\"#00cc96\",\"#00cc96\",\"#00cc96\",\"#00cc96\",\"#00cc96\",\"red\",\"red\",\"#00cc96\",\"#00cc96\",\"#00cc96\",\"red\",\"#00cc96\",\"red\",\"#00cc96\",\"#00cc96\",\"#00cc96\",\"red\",\"#00cc96\",\"red\",\"#00cc96\",\"#00cc96\",\"red\",\"#00cc96\",\"red\",\"red\",\"red\",\"#00cc96\",\"red\",\"#00cc96\",\"#00cc96\",\"red\",\"#00cc96\",\"#00cc96\",\"#00cc96\",\"#00cc96\",\"red\",\"red\",\"#00cc96\",\"#00cc96\",\"red\",\"#00cc96\",\"#00cc96\",\"#00cc96\",\"red\",\"#00cc96\",\"#00cc96\",\"red\",\"#00cc96\",\"#00cc96\",\"#00cc96\",\"#00cc96\",\"#00cc96\",\"#00cc96\",\"red\",\"red\",\"red\",\"#00cc96\",\"#00cc96\",\"#00cc96\",\"#00cc96\",\"red\",\"#00cc96\",\"red\",\"#00cc96\",\"red\",\"#00cc96\",\"#00cc96\",\"#00cc96\",\"#00cc96\",\"red\",\"red\",\"#00cc96\",\"#00cc96\",\"#00cc96\",\"#00cc96\",\"#00cc96\",\"#00cc96\",\"#00cc96\",\"#00cc96\",\"#00cc96\",\"red\",\"#00cc96\",\"#00cc96\",\"#00cc96\",\"#00cc96\",\"red\",\"#00cc96\",\"#00cc96\",\"#00cc96\",\"red\",\"#00cc96\",\"#00cc96\",\"#00cc96\",\"#00cc96\",\"red\",\"red\",\"#00cc96\",\"#00cc96\",\"red\",\"#00cc96\",\"red\",\"red\",\"red\",\"red\",\"#00cc96\",\"#00cc96\",\"red\",\"#00cc96\",\"#00cc96\",\"#00cc96\",\"#00cc96\",\"#00cc96\",\"red\",\"#00cc96\",\"#00cc96\",\"#00cc96\",\"#00cc96\",\"#00cc96\",\"#00cc96\",\"#00cc96\",\"#00cc96\",\"#00cc96\",\"#00cc96\",\"#00cc96\",\"red\",\"#00cc96\",\"#00cc96\",\"#00cc96\",\"red\",\"#00cc96\",\"red\",\"#00cc96\",\"#00cc96\",\"#00cc96\",\"#00cc96\",\"red\",\"#00cc96\",\"red\",\"#00cc96\",\"#00cc96\",\"#00cc96\",\"#00cc96\",\"red\",\"red\",\"red\",\"#00cc96\",\"#00cc96\",\"#00cc96\",\"#00cc96\",\"red\",\"#00cc96\",\"red\",\"red\",\"#00cc96\",\"#00cc96\",\"#00cc96\",\"#00cc96\",\"#00cc96\",\"red\",\"#00cc96\",\"#00cc96\",\"#00cc96\",\"#00cc96\",\"red\",\"#00cc96\",\"#00cc96\",\"#00cc96\",\"#00cc96\",\"#00cc96\",\"red\",\"#00cc96\",\"#00cc96\",\"red\",\"#00cc96\",\"#00cc96\",\"#00cc96\",\"#00cc96\",\"#00cc96\",\"#00cc96\",\"#00cc96\",\"#00cc96\",\"#00cc96\",\"red\",\"#00cc96\",\"red\",\"red\",\"#00cc96\",\"#00cc96\",\"#00cc96\",\"#00cc96\",\"red\",\"#00cc96\",\"#00cc96\",\"#00cc96\",\"#00cc96\",\"red\",\"#00cc96\",\"red\",\"#00cc96\",\"#00cc96\",\"#00cc96\",\"red\",\"red\",\"#00cc96\",\"red\",\"#00cc96\",\"#00cc96\",\"#00cc96\",\"#00cc96\",\"red\",\"red\",\"red\",\"#00cc96\",\"red\",\"#00cc96\",\"#00cc96\",\"#00cc96\",\"red\",\"#00cc96\",\"#00cc96\",\"#00cc96\",\"#00cc96\",\"red\",\"#00cc96\",\"#00cc96\",\"#00cc96\",\"#00cc96\",\"#00cc96\",\"red\",\"#00cc96\",\"#00cc96\",\"red\",\"#00cc96\",\"#00cc96\",\"#00cc96\",\"#00cc96\",\"#00cc96\",\"#00cc96\",\"#00cc96\",\"#00cc96\",\"red\",\"#00cc96\",\"#00cc96\",\"red\",\"red\",\"red\",\"#00cc96\",\"#00cc96\",\"red\",\"#00cc96\",\"#00cc96\",\"#00cc96\",\"red\",\"red\",\"red\",\"#00cc96\",\"red\",\"#00cc96\",\"red\",\"#00cc96\",\"red\",\"red\",\"#00cc96\",\"#00cc96\",\"#00cc96\",\"red\",\"#00cc96\",\"red\",\"#00cc96\",\"#00cc96\",\"red\",\"#00cc96\",\"#00cc96\",\"#00cc96\",\"#00cc96\",\"red\",\"#00cc96\",\"#00cc96\",\"#00cc96\",\"#00cc96\",\"#00cc96\",\"#00cc96\",\"red\",\"#00cc96\",\"#00cc96\",\"#00cc96\",\"#00cc96\",\"#00cc96\",\"#00cc96\",\"#00cc96\",\"#00cc96\",\"red\",\"red\",\"red\",\"red\",\"#00cc96\",\"red\",\"#00cc96\",\"#00cc96\",\"#00cc96\",\"#00cc96\",\"red\",\"#00cc96\",\"red\",\"#00cc96\",\"#00cc96\",\"#00cc96\",\"#00cc96\",\"red\",\"#00cc96\",\"red\",\"#00cc96\",\"#00cc96\",\"red\",\"#00cc96\",\"red\",\"#00cc96\",\"#00cc96\",\"#00cc96\",\"#00cc96\",\"#00cc96\",\"red\",\"#00cc96\",\"red\",\"#00cc96\",\"#00cc96\",\"#00cc96\",\"#00cc96\",\"#00cc96\",\"#00cc96\",\"red\",\"red\",\"#00cc96\",\"red\",\"#00cc96\",\"#00cc96\",\"#00cc96\",\"#00cc96\",\"red\",\"#00cc96\",\"#00cc96\",\"#00cc96\",\"#00cc96\",\"red\",\"#00cc96\",\"#00cc96\",\"#00cc96\",\"red\",\"#00cc96\",\"#00cc96\",\"#00cc96\",\"red\",\"#00cc96\",\"#00cc96\",\"red\",\"#00cc96\",\"#00cc96\",\"red\",\"red\",\"#00cc96\",\"#00cc96\",\"red\",\"red\",\"red\",\"#00cc96\",\"#00cc96\",\"#00cc96\",\"#00cc96\",\"red\",\"#00cc96\",\"#00cc96\",\"#00cc96\",\"#00cc96\",\"#00cc96\",\"#00cc96\",\"#00cc96\",\"red\",\"red\",\"#00cc96\",\"#00cc96\",\"#00cc96\",\"#00cc96\",\"red\",\"#00cc96\",\"#00cc96\",\"red\",\"#00cc96\",\"#00cc96\",\"#00cc96\",\"#00cc96\",\"red\",\"#00cc96\",\"red\",\"#00cc96\",\"red\",\"#00cc96\",\"#00cc96\",\"red\",\"red\",\"#00cc96\",\"#00cc96\",\"#00cc96\",\"#00cc96\",\"#00cc96\",\"#00cc96\",\"#00cc96\",\"#00cc96\",\"#00cc96\",\"red\",\"#00cc96\",\"#00cc96\",\"red\",\"red\",\"red\",\"#00cc96\",\"red\",\"#00cc96\",\"red\",\"red\",\"#00cc96\",\"red\",\"#00cc96\",\"#00cc96\",\"#00cc96\",\"#00cc96\",\"red\",\"#00cc96\",\"red\",\"red\",\"red\",\"#00cc96\",\"#00cc96\",\"#00cc96\",\"red\",\"#00cc96\",\"red\",\"#00cc96\",\"#00cc96\",\"#00cc96\",\"#00cc96\",\"red\",\"red\",\"#00cc96\",\"#00cc96\",\"red\",\"#00cc96\",\"#00cc96\",\"#00cc96\",\"#00cc96\",\"red\",\"#00cc96\",\"#00cc96\",\"#00cc96\",\"#00cc96\",\"#00cc96\",\"#00cc96\",\"#00cc96\",\"red\",\"#00cc96\",\"#00cc96\",\"#00cc96\",\"#00cc96\",\"red\",\"#00cc96\",\"#00cc96\",\"red\",\"#00cc96\",\"#00cc96\",\"#00cc96\",\"#00cc96\",\"#00cc96\",\"red\",\"#00cc96\",\"#00cc96\",\"#00cc96\",\"#00cc96\",\"#00cc96\",\"#00cc96\",\"#00cc96\",\"#00cc96\",\"#00cc96\",\"#00cc96\",\"#00cc96\",\"red\",\"#00cc96\",\"#00cc96\",\"#00cc96\",\"#00cc96\",\"#00cc96\",\"#00cc96\",\"#00cc96\",\"#00cc96\",\"#00cc96\",\"red\",\"#00cc96\",\"#00cc96\",\"#00cc96\",\"#00cc96\",\"#00cc96\",\"#00cc96\",\"#00cc96\",\"#00cc96\",\"#00cc96\",\"#00cc96\",\"#00cc96\",\"#00cc96\",\"#00cc96\",\"#00cc96\",\"#00cc96\",\"#00cc96\",\"#00cc96\",\"#00cc96\",\"#00cc96\",\"red\",\"#00cc96\",\"#00cc96\",\"red\",\"#00cc96\",\"#00cc96\",\"#00cc96\",\"#00cc96\",\"red\",\"#00cc96\",\"#00cc96\",\"red\",\"red\",\"#00cc96\",\"red\",\"#00cc96\",\"#00cc96\",\"#00cc96\",\"#00cc96\",\"#00cc96\",\"#00cc96\",\"#00cc96\",\"#00cc96\",\"#00cc96\",\"#00cc96\",\"red\",\"#00cc96\",\"red\",\"red\",\"red\",\"#00cc96\",\"#00cc96\",\"#00cc96\",\"#00cc96\",\"red\",\"#00cc96\",\"#00cc96\",\"#00cc96\",\"#00cc96\",\"red\",\"#00cc96\",\"#00cc96\",\"#00cc96\",\"#00cc96\",\"#00cc96\",\"#00cc96\",\"red\",\"#00cc96\",\"#00cc96\",\"#00cc96\",\"#00cc96\",\"red\",\"#00cc96\",\"#00cc96\",\"#00cc96\",\"#00cc96\",\"#00cc96\",\"#00cc96\",\"#00cc96\",\"#00cc96\",\"#00cc96\",\"red\",\"red\",\"red\",\"red\",\"#00cc96\",\"#00cc96\",\"#00cc96\",\"red\",\"red\",\"#00cc96\",\"red\",\"#00cc96\",\"#00cc96\",\"#00cc96\",\"#00cc96\",\"red\",\"#00cc96\",\"#00cc96\",\"#00cc96\",\"#00cc96\",\"#00cc96\",\"#00cc96\",\"#00cc96\",\"#00cc96\",\"red\",\"#00cc96\",\"red\",\"#00cc96\",\"#00cc96\",\"#00cc96\",\"#00cc96\",\"red\",\"#00cc96\",\"#00cc96\",\"#00cc96\",\"#00cc96\",\"#00cc96\",\"red\",\"#00cc96\",\"#00cc96\",\"#00cc96\",\"red\",\"#00cc96\",\"red\",\"#00cc96\",\"red\",\"#00cc96\",\"#00cc96\",\"#00cc96\",\"red\",\"red\",\"#00cc96\",\"red\",\"red\",\"#00cc96\",\"#00cc96\",\"red\",\"red\",\"red\",\"#00cc96\",\"#00cc96\",\"#00cc96\",\"#00cc96\",\"#00cc96\",\"#00cc96\",\"#00cc96\",\"#00cc96\",\"#00cc96\",\"#00cc96\",\"#00cc96\",\"#00cc96\",\"#00cc96\",\"#00cc96\",\"#00cc96\",\"#00cc96\",\"#00cc96\",\"red\",\"red\",\"red\",\"#00cc96\",\"red\",\"#00cc96\",\"red\",\"#00cc96\",\"#00cc96\",\"#00cc96\",\"#00cc96\",\"#00cc96\",\"#00cc96\",\"#00cc96\",\"#00cc96\",\"#00cc96\",\"red\",\"#00cc96\",\"#00cc96\",\"red\",\"#00cc96\",\"#00cc96\",\"#00cc96\",\"#00cc96\",\"#00cc96\",\"#00cc96\",\"#00cc96\",\"#00cc96\",\"#00cc96\",\"#00cc96\",\"#00cc96\",\"#00cc96\",\"red\",\"#00cc96\",\"#00cc96\",\"#00cc96\",\"#00cc96\",\"red\",\"#00cc96\",\"#00cc96\",\"#00cc96\",\"#00cc96\",\"#00cc96\",\"red\",\"red\",\"#00cc96\",\"#00cc96\",\"red\",\"#00cc96\",\"red\",\"#00cc96\",\"red\",\"#00cc96\",\"red\",\"#00cc96\",\"#00cc96\",\"#00cc96\",\"#00cc96\",\"red\",\"#00cc96\",\"#00cc96\",\"#00cc96\",\"#00cc96\",\"red\",\"#00cc96\",\"#00cc96\",\"#00cc96\",\"red\",\"#00cc96\",\"#00cc96\",\"red\",\"#00cc96\",\"#00cc96\",\"#00cc96\",\"red\",\"#00cc96\",\"red\",\"red\",\"#00cc96\",\"#00cc96\",\"#00cc96\",\"red\",\"red\",\"#00cc96\",\"#00cc96\",\"#00cc96\",\"red\",\"#00cc96\",\"#00cc96\",\"#00cc96\",\"#00cc96\",\"#00cc96\",\"#00cc96\",\"#00cc96\",\"#00cc96\",\"#00cc96\",\"#00cc96\",\"#00cc96\",\"#00cc96\",\"#00cc96\",\"red\",\"red\",\"#00cc96\",\"#00cc96\",\"#00cc96\",\"red\",\"#00cc96\",\"#00cc96\",\"#00cc96\",\"red\",\"#00cc96\",\"#00cc96\",\"#00cc96\",\"#00cc96\",\"#00cc96\",\"#00cc96\",\"#00cc96\",\"#00cc96\",\"#00cc96\",\"red\",\"#00cc96\",\"#00cc96\",\"#00cc96\",\"#00cc96\",\"#00cc96\",\"red\",\"#00cc96\",\"#00cc96\",\"#00cc96\",\"#00cc96\",\"#00cc96\",\"#00cc96\",\"#00cc96\",\"red\",\"#00cc96\",\"#00cc96\",\"#00cc96\",\"#00cc96\",\"#00cc96\",\"#00cc96\",\"#00cc96\",\"#00cc96\",\"#00cc96\",\"#00cc96\",\"#00cc96\",\"#00cc96\",\"#00cc96\",\"red\",\"#00cc96\",\"#00cc96\",\"red\",\"#00cc96\",\"#00cc96\",\"#00cc96\",\"red\",\"#00cc96\",\"#00cc96\",\"#00cc96\",\"#00cc96\",\"#00cc96\",\"#00cc96\",\"#00cc96\",\"#00cc96\",\"#00cc96\",\"#00cc96\",\"#00cc96\",\"#00cc96\",\"#00cc96\",\"#00cc96\",\"#00cc96\",\"#00cc96\",\"#00cc96\",\"#00cc96\",\"red\",\"#00cc96\"]},\"name\":\"\",\"showlegend\":true,\"type\":\"pie\"}],                        {\"legend\":{\"tracegroupgap\":0},\"margin\":{\"t\":60},\"template\":{\"data\":{\"bar\":[{\"error_x\":{\"color\":\"#2a3f5f\"},\"error_y\":{\"color\":\"#2a3f5f\"},\"marker\":{\"line\":{\"color\":\"#E5ECF6\",\"width\":0.5},\"pattern\":{\"fillmode\":\"overlay\",\"size\":10,\"solidity\":0.2}},\"type\":\"bar\"}],\"barpolar\":[{\"marker\":{\"line\":{\"color\":\"#E5ECF6\",\"width\":0.5},\"pattern\":{\"fillmode\":\"overlay\",\"size\":10,\"solidity\":0.2}},\"type\":\"barpolar\"}],\"carpet\":[{\"aaxis\":{\"endlinecolor\":\"#2a3f5f\",\"gridcolor\":\"white\",\"linecolor\":\"white\",\"minorgridcolor\":\"white\",\"startlinecolor\":\"#2a3f5f\"},\"baxis\":{\"endlinecolor\":\"#2a3f5f\",\"gridcolor\":\"white\",\"linecolor\":\"white\",\"minorgridcolor\":\"white\",\"startlinecolor\":\"#2a3f5f\"},\"type\":\"carpet\"}],\"choropleth\":[{\"colorbar\":{\"outlinewidth\":0,\"ticks\":\"\"},\"type\":\"choropleth\"}],\"contour\":[{\"colorbar\":{\"outlinewidth\":0,\"ticks\":\"\"},\"colorscale\":[[0.0,\"#0d0887\"],[0.1111111111111111,\"#46039f\"],[0.2222222222222222,\"#7201a8\"],[0.3333333333333333,\"#9c179e\"],[0.4444444444444444,\"#bd3786\"],[0.5555555555555556,\"#d8576b\"],[0.6666666666666666,\"#ed7953\"],[0.7777777777777778,\"#fb9f3a\"],[0.8888888888888888,\"#fdca26\"],[1.0,\"#f0f921\"]],\"type\":\"contour\"}],\"contourcarpet\":[{\"colorbar\":{\"outlinewidth\":0,\"ticks\":\"\"},\"type\":\"contourcarpet\"}],\"heatmap\":[{\"colorbar\":{\"outlinewidth\":0,\"ticks\":\"\"},\"colorscale\":[[0.0,\"#0d0887\"],[0.1111111111111111,\"#46039f\"],[0.2222222222222222,\"#7201a8\"],[0.3333333333333333,\"#9c179e\"],[0.4444444444444444,\"#bd3786\"],[0.5555555555555556,\"#d8576b\"],[0.6666666666666666,\"#ed7953\"],[0.7777777777777778,\"#fb9f3a\"],[0.8888888888888888,\"#fdca26\"],[1.0,\"#f0f921\"]],\"type\":\"heatmap\"}],\"heatmapgl\":[{\"colorbar\":{\"outlinewidth\":0,\"ticks\":\"\"},\"colorscale\":[[0.0,\"#0d0887\"],[0.1111111111111111,\"#46039f\"],[0.2222222222222222,\"#7201a8\"],[0.3333333333333333,\"#9c179e\"],[0.4444444444444444,\"#bd3786\"],[0.5555555555555556,\"#d8576b\"],[0.6666666666666666,\"#ed7953\"],[0.7777777777777778,\"#fb9f3a\"],[0.8888888888888888,\"#fdca26\"],[1.0,\"#f0f921\"]],\"type\":\"heatmapgl\"}],\"histogram\":[{\"marker\":{\"pattern\":{\"fillmode\":\"overlay\",\"size\":10,\"solidity\":0.2}},\"type\":\"histogram\"}],\"histogram2d\":[{\"colorbar\":{\"outlinewidth\":0,\"ticks\":\"\"},\"colorscale\":[[0.0,\"#0d0887\"],[0.1111111111111111,\"#46039f\"],[0.2222222222222222,\"#7201a8\"],[0.3333333333333333,\"#9c179e\"],[0.4444444444444444,\"#bd3786\"],[0.5555555555555556,\"#d8576b\"],[0.6666666666666666,\"#ed7953\"],[0.7777777777777778,\"#fb9f3a\"],[0.8888888888888888,\"#fdca26\"],[1.0,\"#f0f921\"]],\"type\":\"histogram2d\"}],\"histogram2dcontour\":[{\"colorbar\":{\"outlinewidth\":0,\"ticks\":\"\"},\"colorscale\":[[0.0,\"#0d0887\"],[0.1111111111111111,\"#46039f\"],[0.2222222222222222,\"#7201a8\"],[0.3333333333333333,\"#9c179e\"],[0.4444444444444444,\"#bd3786\"],[0.5555555555555556,\"#d8576b\"],[0.6666666666666666,\"#ed7953\"],[0.7777777777777778,\"#fb9f3a\"],[0.8888888888888888,\"#fdca26\"],[1.0,\"#f0f921\"]],\"type\":\"histogram2dcontour\"}],\"mesh3d\":[{\"colorbar\":{\"outlinewidth\":0,\"ticks\":\"\"},\"type\":\"mesh3d\"}],\"parcoords\":[{\"line\":{\"colorbar\":{\"outlinewidth\":0,\"ticks\":\"\"}},\"type\":\"parcoords\"}],\"pie\":[{\"automargin\":true,\"type\":\"pie\"}],\"scatter\":[{\"marker\":{\"colorbar\":{\"outlinewidth\":0,\"ticks\":\"\"}},\"type\":\"scatter\"}],\"scatter3d\":[{\"line\":{\"colorbar\":{\"outlinewidth\":0,\"ticks\":\"\"}},\"marker\":{\"colorbar\":{\"outlinewidth\":0,\"ticks\":\"\"}},\"type\":\"scatter3d\"}],\"scattercarpet\":[{\"marker\":{\"colorbar\":{\"outlinewidth\":0,\"ticks\":\"\"}},\"type\":\"scattercarpet\"}],\"scattergeo\":[{\"marker\":{\"colorbar\":{\"outlinewidth\":0,\"ticks\":\"\"}},\"type\":\"scattergeo\"}],\"scattergl\":[{\"marker\":{\"colorbar\":{\"outlinewidth\":0,\"ticks\":\"\"}},\"type\":\"scattergl\"}],\"scattermapbox\":[{\"marker\":{\"colorbar\":{\"outlinewidth\":0,\"ticks\":\"\"}},\"type\":\"scattermapbox\"}],\"scatterpolar\":[{\"marker\":{\"colorbar\":{\"outlinewidth\":0,\"ticks\":\"\"}},\"type\":\"scatterpolar\"}],\"scatterpolargl\":[{\"marker\":{\"colorbar\":{\"outlinewidth\":0,\"ticks\":\"\"}},\"type\":\"scatterpolargl\"}],\"scatterternary\":[{\"marker\":{\"colorbar\":{\"outlinewidth\":0,\"ticks\":\"\"}},\"type\":\"scatterternary\"}],\"surface\":[{\"colorbar\":{\"outlinewidth\":0,\"ticks\":\"\"},\"colorscale\":[[0.0,\"#0d0887\"],[0.1111111111111111,\"#46039f\"],[0.2222222222222222,\"#7201a8\"],[0.3333333333333333,\"#9c179e\"],[0.4444444444444444,\"#bd3786\"],[0.5555555555555556,\"#d8576b\"],[0.6666666666666666,\"#ed7953\"],[0.7777777777777778,\"#fb9f3a\"],[0.8888888888888888,\"#fdca26\"],[1.0,\"#f0f921\"]],\"type\":\"surface\"}],\"table\":[{\"cells\":{\"fill\":{\"color\":\"#EBF0F8\"},\"line\":{\"color\":\"white\"}},\"header\":{\"fill\":{\"color\":\"#C8D4E3\"},\"line\":{\"color\":\"white\"}},\"type\":\"table\"}]},\"layout\":{\"annotationdefaults\":{\"arrowcolor\":\"#2a3f5f\",\"arrowhead\":0,\"arrowwidth\":1},\"autotypenumbers\":\"strict\",\"coloraxis\":{\"colorbar\":{\"outlinewidth\":0,\"ticks\":\"\"}},\"colorscale\":{\"diverging\":[[0,\"#8e0152\"],[0.1,\"#c51b7d\"],[0.2,\"#de77ae\"],[0.3,\"#f1b6da\"],[0.4,\"#fde0ef\"],[0.5,\"#f7f7f7\"],[0.6,\"#e6f5d0\"],[0.7,\"#b8e186\"],[0.8,\"#7fbc41\"],[0.9,\"#4d9221\"],[1,\"#276419\"]],\"sequential\":[[0.0,\"#0d0887\"],[0.1111111111111111,\"#46039f\"],[0.2222222222222222,\"#7201a8\"],[0.3333333333333333,\"#9c179e\"],[0.4444444444444444,\"#bd3786\"],[0.5555555555555556,\"#d8576b\"],[0.6666666666666666,\"#ed7953\"],[0.7777777777777778,\"#fb9f3a\"],[0.8888888888888888,\"#fdca26\"],[1.0,\"#f0f921\"]],\"sequentialminus\":[[0.0,\"#0d0887\"],[0.1111111111111111,\"#46039f\"],[0.2222222222222222,\"#7201a8\"],[0.3333333333333333,\"#9c179e\"],[0.4444444444444444,\"#bd3786\"],[0.5555555555555556,\"#d8576b\"],[0.6666666666666666,\"#ed7953\"],[0.7777777777777778,\"#fb9f3a\"],[0.8888888888888888,\"#fdca26\"],[1.0,\"#f0f921\"]]},\"colorway\":[\"#636efa\",\"#EF553B\",\"#00cc96\",\"#ab63fa\",\"#FFA15A\",\"#19d3f3\",\"#FF6692\",\"#B6E880\",\"#FF97FF\",\"#FECB52\"],\"font\":{\"color\":\"#2a3f5f\"},\"geo\":{\"bgcolor\":\"white\",\"lakecolor\":\"white\",\"landcolor\":\"#E5ECF6\",\"showlakes\":true,\"showland\":true,\"subunitcolor\":\"white\"},\"hoverlabel\":{\"align\":\"left\"},\"hovermode\":\"closest\",\"mapbox\":{\"style\":\"light\"},\"paper_bgcolor\":\"white\",\"plot_bgcolor\":\"#E5ECF6\",\"polar\":{\"angularaxis\":{\"gridcolor\":\"white\",\"linecolor\":\"white\",\"ticks\":\"\"},\"bgcolor\":\"#E5ECF6\",\"radialaxis\":{\"gridcolor\":\"white\",\"linecolor\":\"white\",\"ticks\":\"\"}},\"scene\":{\"xaxis\":{\"backgroundcolor\":\"#E5ECF6\",\"gridcolor\":\"white\",\"gridwidth\":2,\"linecolor\":\"white\",\"showbackground\":true,\"ticks\":\"\",\"zerolinecolor\":\"white\"},\"yaxis\":{\"backgroundcolor\":\"#E5ECF6\",\"gridcolor\":\"white\",\"gridwidth\":2,\"linecolor\":\"white\",\"showbackground\":true,\"ticks\":\"\",\"zerolinecolor\":\"white\"},\"zaxis\":{\"backgroundcolor\":\"#E5ECF6\",\"gridcolor\":\"white\",\"gridwidth\":2,\"linecolor\":\"white\",\"showbackground\":true,\"ticks\":\"\",\"zerolinecolor\":\"white\"}},\"shapedefaults\":{\"line\":{\"color\":\"#2a3f5f\"}},\"ternary\":{\"aaxis\":{\"gridcolor\":\"white\",\"linecolor\":\"white\",\"ticks\":\"\"},\"baxis\":{\"gridcolor\":\"white\",\"linecolor\":\"white\",\"ticks\":\"\"},\"bgcolor\":\"#E5ECF6\",\"caxis\":{\"gridcolor\":\"white\",\"linecolor\":\"white\",\"ticks\":\"\"}},\"title\":{\"x\":0.05},\"xaxis\":{\"automargin\":true,\"gridcolor\":\"white\",\"linecolor\":\"white\",\"ticks\":\"\",\"title\":{\"standoff\":15},\"zerolinecolor\":\"white\",\"zerolinewidth\":2},\"yaxis\":{\"automargin\":true,\"gridcolor\":\"white\",\"linecolor\":\"white\",\"ticks\":\"\",\"title\":{\"standoff\":15},\"zerolinecolor\":\"white\",\"zerolinewidth\":2}}}},                        {\"responsive\": true}                    ).then(function(){\n",
       "                            \n",
       "var gd = document.getElementById('53792b8b-83f3-4de2-a5c7-0af06eb2cdd4');\n",
       "var x = new MutationObserver(function (mutations, observer) {{\n",
       "        var display = window.getComputedStyle(gd).display;\n",
       "        if (!display || display === 'none') {{\n",
       "            console.log([gd, 'removed!']);\n",
       "            Plotly.purge(gd);\n",
       "            observer.disconnect();\n",
       "        }}\n",
       "}});\n",
       "\n",
       "// Listen for the removal of the full notebook cells\n",
       "var notebookContainer = gd.closest('#notebook-container');\n",
       "if (notebookContainer) {{\n",
       "    x.observe(notebookContainer, {childList: true});\n",
       "}}\n",
       "\n",
       "// Listen for the clearing of the current output cell\n",
       "var outputEl = gd.closest('.output');\n",
       "if (outputEl) {{\n",
       "    x.observe(outputEl, {childList: true});\n",
       "}}\n",
       "\n",
       "                        })                };                });            </script>        </div>"
      ]
     },
     "metadata": {},
     "output_type": "display_data"
    }
   ],
   "source": [
    "import plotly.express as px\n",
    "\n",
    "fig = px.pie(Bank,names='Loan_Status',color='Loan_Status',\n",
    "             color_discrete_map={'Yes':'red',\n",
    "                                 '`':'cyan'})\n",
    "fig.show()"
   ]
  },
  {
   "cell_type": "code",
   "execution_count": null,
   "metadata": {},
   "outputs": [],
   "source": [
    "Bank_Yes= Bank[Bank[\"Loan_Status\"] == \"Yes\"]"
   ]
  },
  {
   "cell_type": "code",
   "execution_count": null,
   "metadata": {},
   "outputs": [],
   "source": [
    "Bank_Yes.head()"
   ]
  },
  {
   "cell_type": "code",
   "execution_count": null,
   "metadata": {},
   "outputs": [],
   "source": [
    "fig = px.sunburst(Bank_Yes, path=[\"Gender\",'Education','Self_Employed',\n",
    "                                    'Tenure_group','Property_Area'])\n",
    "fig.show()"
   ]
  },
  {
   "cell_type": "markdown",
   "metadata": {},
   "source": [
    "# 5. Breaking Data into Two Part\n",
    " * Quantitative Variable\n",
    " * Qualitative Variable\n",
    " \n"
   ]
  },
  {
   "cell_type": "code",
   "execution_count": null,
   "metadata": {},
   "outputs": [],
   "source": [
    "Bank=Bank.drop('Loan_ID',axis=1)"
   ]
  },
  {
   "cell_type": "code",
   "execution_count": null,
   "metadata": {},
   "outputs": [],
   "source": [
    "Bank.select_dtypes(include=[np.number]).columns.tolist()"
   ]
  },
  {
   "cell_type": "code",
   "execution_count": null,
   "metadata": {},
   "outputs": [],
   "source": [
    "# Qualitative Variable\n",
    "Quantitative_Variable = Bank[Bank.select_dtypes(include=[np.number]).columns.tolist()]\n",
    "Quantitative_Variable.head(3)"
   ]
  },
  {
   "cell_type": "code",
   "execution_count": null,
   "metadata": {},
   "outputs": [],
   "source": [
    "Qualitative_Variable = Bank[Bank.select_dtypes(include=['object']).columns.tolist()]\n",
    "Qualitative_Variable.head(3)"
   ]
  },
  {
   "cell_type": "markdown",
   "metadata": {},
   "source": [
    "### Converting qualitative Variable into number"
   ]
  },
  {
   "cell_type": "code",
   "execution_count": null,
   "metadata": {},
   "outputs": [],
   "source": [
    "from sklearn.preprocessing import LabelEncoder\n",
    "Qualitative_Variable=Qualitative_Variable.apply(LabelEncoder().fit_transform) # label in ascending order\n",
    "Qualitative_Variable.head(3)"
   ]
  },
  {
   "cell_type": "markdown",
   "metadata": {},
   "source": [
    "## Combining the data set "
   ]
  },
  {
   "cell_type": "code",
   "execution_count": null,
   "metadata": {},
   "outputs": [],
   "source": [
    "Final_combined = pd.concat([Qualitative_Variable, Quantitative_Variable],axis=1)\n",
    "Final_combined.head()"
   ]
  },
  {
   "cell_type": "markdown",
   "metadata": {},
   "source": [
    "# Data Partition "
   ]
  },
  {
   "cell_type": "code",
   "execution_count": null,
   "metadata": {},
   "outputs": [],
   "source": [
    "from sklearn.model_selection import train_test_split\n",
    "\n",
    "# define our input variable (X) & output variable\n",
    "X = Final_combined.drop('Loan_Status', axis = 1)\n",
    "Y = Final_combined[['Loan_Status']]\n",
    "# Split X and y into X_\n",
    "X_train, X_test, y_train, y_test = train_test_split(X, Y, test_size=0.20, random_state=56)"
   ]
  },
  {
   "cell_type": "markdown",
   "metadata": {},
   "source": [
    "# Model building "
   ]
  },
  {
   "cell_type": "markdown",
   "metadata": {},
   "source": [
    "# Hypothesis\n",
    "\n",
    "* H0 :- There is no log linear relationship between Loan_Status and all independent Variable\n",
    "\n",
    "Vs \n",
    "\n",
    "* H1 :- There is log linear relationship between Loan_Status and all independent Variable\n",
    "\n",
    "Alpha = 0.05"
   ]
  },
  {
   "cell_type": "code",
   "execution_count": null,
   "metadata": {},
   "outputs": [],
   "source": [
    "# Needed to run the logistic regression\n",
    "import statsmodels.formula.api as smf\n",
    "import statsmodels.api as sm\n",
    "X_1 = sm.add_constant(X_train)  ## give intercept coefficient in the model\n",
    "result=sm.Logit(y_train,X_1).fit()\n",
    "print(result.summary2())"
   ]
  },
  {
   "cell_type": "markdown",
   "metadata": {},
   "source": [
    "* There is log linear relationship between Loan_Status and Married,Previous_Loan_Taken,Customer_Bandwith,Cibil_Score"
   ]
  },
  {
   "cell_type": "markdown",
   "metadata": {},
   "source": [
    "# Backward method"
   ]
  },
  {
   "cell_type": "code",
   "execution_count": null,
   "metadata": {},
   "outputs": [],
   "source": [
    "cols = list(X.columns) # all column present  in x  \n",
    "pmax = 1\n",
    "while (len(cols)>0):  # count of variable should be greater than zero\n",
    "    p= []             # empty list\n",
    "    X_1 = X_train[cols]  # all column we are assign in x_1\n",
    "    X_1 = sm.add_constant(X_1)# adding a column with value 1\n",
    "    output=sm.Logit(y_train,X_1).fit() # Regression model\n",
    "    p = pd.Series(output.pvalues.values[1:],index = cols) # to get p-values for all variable only     \n",
    "    pmax = max(p)  # select a max P-value \n",
    "    feature_with_p_max = p.idxmax()   # idmax is used to display the variable name which has max P-value\n",
    "    if(pmax>0.05):\n",
    "        cols.remove(feature_with_p_max)\n",
    "    else:\n",
    "        break\n",
    "selected_features_BE = cols"
   ]
  },
  {
   "cell_type": "code",
   "execution_count": null,
   "metadata": {},
   "outputs": [],
   "source": [
    "output.summary2()"
   ]
  },
  {
   "cell_type": "markdown",
   "metadata": {},
   "source": [
    "* There is log linear relationship between Loan_Status and Married,Previous_Loan_Taken,Customer_Bandwith,Cibil_Score"
   ]
  },
  {
   "cell_type": "markdown",
   "metadata": {},
   "source": [
    "# Step 6 : Predictions on Train Dataset"
   ]
  },
  {
   "cell_type": "code",
   "execution_count": null,
   "metadata": {},
   "outputs": [],
   "source": [
    "train=pd.concat([X_train,y_train],axis=1)\n",
    "train.head()"
   ]
  },
  {
   "cell_type": "code",
   "execution_count": null,
   "metadata": {},
   "outputs": [],
   "source": [
    "train['Probability']=output.predict(X_1)\n",
    "train.head()"
   ]
  },
  {
   "cell_type": "code",
   "execution_count": null,
   "metadata": {},
   "outputs": [],
   "source": [
    "train['Predicted']=np.where(train['Probability'] > 0.7,1,0) \n",
    "train.head()"
   ]
  },
  {
   "cell_type": "markdown",
   "metadata": {},
   "source": [
    "# Step 7 : Model Performance Metrics"
   ]
  },
  {
   "cell_type": "code",
   "execution_count": null,
   "metadata": {},
   "outputs": [],
   "source": [
    "from sklearn.metrics import confusion_matrix\n",
    "matrix = confusion_matrix(train['Predicted'], train['Loan_Status'])\n",
    "print(matrix)"
   ]
  },
  {
   "cell_type": "code",
   "execution_count": null,
   "metadata": {},
   "outputs": [],
   "source": [
    "Accuracy_Train=((550+142)/(784)*100)\n",
    "print(Accuracy_Train)"
   ]
  },
  {
   "cell_type": "markdown",
   "metadata": {},
   "source": [
    "* Accuracy of Model is 88% , So we say Model good fit data  "
   ]
  },
  {
   "cell_type": "code",
   "execution_count": null,
   "metadata": {
    "scrolled": true
   },
   "outputs": [],
   "source": [
    "from sklearn.metrics import classification_report\n",
    "print(classification_report(train['Predicted'],train['Loan_Status']))"
   ]
  },
  {
   "cell_type": "markdown",
   "metadata": {},
   "source": [
    "* Accuracy of Bad Customer Capture by Model is 92% ( Sensitivity )\n",
    "* Accuracy of Good Customer Capture by Model is 87% \n",
    "* Accuracy of Predicted Bad Customer And often Correct is 64% \n",
    "* Accuracy of Predicted Good Customer And often Correct is 98% \n"
   ]
  },
  {
   "cell_type": "markdown",
   "metadata": {},
   "source": [
    "# Step 8 : Predictions on Test Dataset"
   ]
  },
  {
   "cell_type": "code",
   "execution_count": null,
   "metadata": {
    "scrolled": true
   },
   "outputs": [],
   "source": [
    "test=pd.concat([X_test,y_test],axis=1)\n",
    "test.head()"
   ]
  },
  {
   "cell_type": "code",
   "execution_count": null,
   "metadata": {
    "scrolled": true
   },
   "outputs": [],
   "source": [
    "X_test = sm.add_constant(X_test)\n",
    "X_test.head()"
   ]
  },
  {
   "cell_type": "code",
   "execution_count": null,
   "metadata": {},
   "outputs": [],
   "source": [
    "abc=X_test[['const', 'Married','Customer_Bandwith','Previous_Loan_Taken','Cibil_Score']]\n",
    "abc.head(2)"
   ]
  },
  {
   "cell_type": "code",
   "execution_count": null,
   "metadata": {},
   "outputs": [],
   "source": [
    "test['Probability']=output.predict(abc)\n",
    "test.head()"
   ]
  },
  {
   "cell_type": "code",
   "execution_count": null,
   "metadata": {},
   "outputs": [],
   "source": [
    "test['Predicted']=np.where(test['Probability'] > 0.7,1,0) \n",
    "test.head()"
   ]
  },
  {
   "cell_type": "markdown",
   "metadata": {},
   "source": [
    "# Step 9 : Model Performance Metrics on Test data "
   ]
  },
  {
   "cell_type": "code",
   "execution_count": null,
   "metadata": {},
   "outputs": [],
   "source": [
    "from sklearn.metrics import confusion_matrix\n",
    "matrix = confusion_matrix(test['Predicted'],test['Loan_Status'])\n",
    "print(matrix)"
   ]
  },
  {
   "cell_type": "code",
   "execution_count": null,
   "metadata": {},
   "outputs": [],
   "source": [
    "Accuracy_test=((150+10)/(197)*100)\n",
    "Accuracy_test"
   ]
  },
  {
   "cell_type": "code",
   "execution_count": null,
   "metadata": {
    "scrolled": true
   },
   "outputs": [],
   "source": [
    "from sklearn.metrics import classification_report\n",
    "print(classification_report(test['Predicted'],test['Loan_Status']))"
   ]
  },
  {
   "cell_type": "markdown",
   "metadata": {},
   "source": [
    "# Finish"
   ]
  },
  {
   "cell_type": "markdown",
   "metadata": {},
   "source": [
    "# Automation"
   ]
  },
  {
   "cell_type": "markdown",
   "metadata": {},
   "source": [
    "import os \n",
    "os.chdir(r\"C:\\Users\\User\\Desktop\\Python Code\\End_to_End Project\\Bank_loan_logistics\")"
   ]
  },
  {
   "cell_type": "markdown",
   "metadata": {},
   "source": [
    "from sklearn.linear_model import LogisticRegression\n",
    "from sklearn import metrics\n",
    "output = LogisticRegression()\n",
    "output.fit(X_train, y_train)"
   ]
  },
  {
   "cell_type": "markdown",
   "metadata": {},
   "source": [
    "import pickle\n",
    "# Saving model\n",
    "#pickle.dump(output, open('build.pkl','wb'))\n",
    "model=pickle.load(open('build.pkl','rb'))"
   ]
  },
  {
   "cell_type": "markdown",
   "metadata": {},
   "source": [
    "model.predict([[1,0,0,0,1,2,1,43,3,54005,334113,668,43]])"
   ]
  },
  {
   "cell_type": "markdown",
   "metadata": {},
   "source": [
    "model.predict([[1,0,1,0,1,0,1,32,2,99459,755401,415,23]])"
   ]
  }
 ],
 "metadata": {
  "kernelspec": {
   "display_name": "Python 3",
   "language": "python",
   "name": "python3"
  },
  "language_info": {
   "codemirror_mode": {
    "name": "ipython",
    "version": 3
   },
   "file_extension": ".py",
   "mimetype": "text/x-python",
   "name": "python",
   "nbconvert_exporter": "python",
   "pygments_lexer": "ipython3",
   "version": "3.8.8"
  }
 },
 "nbformat": 4,
 "nbformat_minor": 2
}
